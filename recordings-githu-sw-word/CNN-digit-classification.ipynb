{
 "cells": [
  {
   "cell_type": "code",
   "execution_count": 223,
   "metadata": {},
   "outputs": [],
   "source": [
    "import os\n",
    "os.environ['PYTHONHASHSEED']=str(1)\n",
    "import json\n",
    "import numpy as np\n",
    "np.random.seed(1)\n",
    "from sklearn.model_selection import train_test_split\n",
    "import tensorflow.keras as keras\n",
    "import matplotlib.pyplot as plt\n",
    "\n",
    "import pickle \n",
    "\n",
    "import tensorflow as tf\n",
    "tf.random.set_random_seed(1)\n",
    "import random\n",
    "from tensorflow.keras import backend as K\n",
    "from tensorflow import set_random_seed\n",
    "#import tensorflow_io as tfio\n",
    "#from tensorflow_addons.image import sparse_image_warp"
   ]
  },
  {
   "cell_type": "code",
   "execution_count": 20,
   "metadata": {},
   "outputs": [
    {
     "name": "stdout",
     "output_type": "stream",
     "text": [
      "[3, 2, 5, 1, 4]\n"
     ]
    }
   ],
   "source": [
    "np.random.seed(1)\n",
    "a = [1,2,3,4,5]\n",
    "np.random.shuffle(a)\n",
    "print(a)\n"
   ]
  },
  {
   "cell_type": "code",
   "execution_count": 53,
   "metadata": {},
   "outputs": [],
   "source": [
    "def reset_random_seeds():\n",
    "    seed_value=1\n",
    "    os.environ['PYTHONHASHSEED']=str(seed_value)\n",
    "    tf.random.set_random_seed(seed_value)\n",
    "    random.seed(seed_value)\n",
    "    np.random.seed(seed_value)\n",
    "    set_random_seed(seed_value)\n",
    "    session_conf=tf.ConfigProto(intra_op_parallelism_threads=1, inter_op_parallelism_threads=1)\n",
    "    sess=tf.Session(graph=tf.get_default_graph(),config=session_conf)\n",
    "    K.set_session(sess)\n",
    "\n",
    "\n"
   ]
  },
  {
   "cell_type": "code",
   "execution_count": 102,
   "metadata": {},
   "outputs": [],
   "source": [
    "DATASET_PATH= \"MNIST-digit-sw-mfcc-norm-16.json\"  #\"MNIST-digit-en-0-mfcc.json\" # \"data_mfcc.json\""
   ]
  },
  {
   "cell_type": "code",
   "execution_count": 23,
   "metadata": {},
   "outputs": [],
   "source": [
    "#load data\n",
    "def load_data(dataset_path):\n",
    "    with open(dataset_path,\"r\") as fp:\n",
    "        data=json.load(fp)  #load the dictionary from the file\n",
    "        \n",
    "    # convert list into numpy array\n",
    "    inputs=np.array(data[\"mfcc\"])\n",
    "    targets=np.array(data[\"labels\"]) #.astype(int)\n",
    "    #targets=gender_to_digit(targets)\n",
    "    return inputs,targets"
   ]
  },
  {
   "cell_type": "code",
   "execution_count": 42,
   "metadata": {},
   "outputs": [],
   "source": [
    "c,v=load_data(DATASET_PATH)"
   ]
  },
  {
   "cell_type": "code",
   "execution_count": 4,
   "metadata": {},
   "outputs": [],
   "source": [
    "def gender_to_digit(y):\n",
    "    for i in range(0,len(y)):\n",
    "        if \"male\"==y[i]:\n",
    "            y[i]=\"1\"\n",
    "        else:\n",
    "            y[i]=\"0\"\n",
    "    return y"
   ]
  },
  {
   "cell_type": "code",
   "execution_count": 54,
   "metadata": {},
   "outputs": [],
   "source": [
    "def prepare_datasets(test_size,validation_size):\n",
    "    #load data\n",
    "    X,y=load_data(DATASET_PATH)\n",
    "    \n",
    "    #create train/test split\n",
    "    #split the data into train and test set\n",
    "    X_train,X_test,y_train,y_test=train_test_split(X,y,test_size=test_size)\n",
    "    #create train/validation split\n",
    "    X_train,X_validation,y_train,y_validation=train_test_split(X_train,y_train,test_size=validation_size)\n",
    "    #3d array -> (130,13,1)\n",
    "    X_train=X_train[...,np.newaxis] #4d array-> (num_samples,130,13,1)\n",
    "    X_validation=X_validation[...,np.newaxis]\n",
    "    X_test=X_test[...,np.newaxis]\n",
    "    \n",
    "    \n",
    "    return X_train,X_validation,X_test,y_train,y_validation,y_test"
   ]
  },
  {
   "cell_type": "code",
   "execution_count": 79,
   "metadata": {},
   "outputs": [],
   "source": [
    "def build_model(input_shape):\n",
    "    #create model\n",
    "    model=keras.Sequential()\n",
    "    #1st conv layer\n",
    "    model.add(keras.layers.Conv2D(32,(3,3),activation='relu',input_shape=input_shape))\n",
    "    model.add(keras.layers.MaxPool2D((3,3),strides=(2,2),padding='same'))\n",
    "    model.add(keras.layers.BatchNormalization())\n",
    "    \n",
    "    #2nd conv layer\n",
    "    model.add(keras.layers.Conv2D(32,(3,3),activation='relu',input_shape=input_shape))\n",
    "    model.add(keras.layers.MaxPool2D((3,3),strides=(2,2),padding='same'))\n",
    "    model.add(keras.layers.BatchNormalization())\n",
    "    \n",
    "    #3rd conv layer\n",
    "    model.add(keras.layers.Conv2D(32,(2,2),activation='relu',input_shape=input_shape))\n",
    "    model.add(keras.layers.MaxPool2D((2,2),strides=(2,2),padding='same'))\n",
    "    #model.add(keras.layers.BatchNormalization())\n",
    "    \n",
    "    #flatten the output and feed it into dense layer\n",
    "    model.add(keras.layers.Flatten())\n",
    "    model.add(keras.layers.Dense(64,activation='relu'))\n",
    "    model.add(keras.layers.Dropout(0.3,seed=1))\n",
    "    \n",
    "    #output layer softmax function\n",
    "    model.add(keras.layers.Dense(10,activation='softmax'))\n",
    "    \n",
    "    return model"
   ]
  },
  {
   "cell_type": "code",
   "execution_count": 56,
   "metadata": {},
   "outputs": [],
   "source": [
    "def predict(model,X,y):\n",
    "    X=X[np.newaxis,...]\n",
    "    \n",
    "    # prediction =[[0.1,0.2,...]]\n",
    "    prediction=model.predict(X) #X- >(1, 130,13,1)\n",
    "    \n",
    "    \n",
    "    # extract index with max value\n",
    "    predicted_index=np.argmax(prediction,axis=1) # [4]\n",
    "    \n",
    "    print(\"Expected index: {}, Predicted index: {}\".format(y,predicted_index))\n",
    "    \n",
    "    "
   ]
  },
  {
   "cell_type": "code",
   "execution_count": 224,
   "metadata": {},
   "outputs": [],
   "source": [
    "\n",
    "if __name__==\"__main__\":\n",
    "    #inputs,targets=load_data(DATASET_PATH)\n",
    "    \n",
    "    reset_random_seeds()\n",
    "    X_train,X_validation,X_test,y_train,y_validation,y_test=prepare_datasets(0.25,0.2)\n",
    "    #create train, validation and test sets\n"
   ]
  },
  {
   "cell_type": "code",
   "execution_count": 225,
   "metadata": {},
   "outputs": [
    {
     "name": "stdout",
     "output_type": "stream",
     "text": [
      "['7' '8' '7' ... '1' '1' '5']\n"
     ]
    }
   ],
   "source": [
    "print(y_train)"
   ]
  },
  {
   "cell_type": "code",
   "execution_count": 33,
   "metadata": {},
   "outputs": [
    {
     "name": "stdout",
     "output_type": "stream",
     "text": [
      "['1' '1' '0' ... '1' '1' '1']\n"
     ]
    }
   ],
   "source": [
    "print(y_train)"
   ]
  },
  {
   "cell_type": "code",
   "execution_count": 228,
   "metadata": {
    "scrolled": true
   },
   "outputs": [
    {
     "name": "stdout",
     "output_type": "stream",
     "text": [
      "_________________________________________________________________\n",
      "Layer (type)                 Output Shape              Param #   \n",
      "=================================================================\n",
      "conv2d (Conv2D)              (None, 62, 14, 32)        320       \n",
      "_________________________________________________________________\n",
      "max_pooling2d (MaxPooling2D) (None, 31, 7, 32)         0         \n",
      "_________________________________________________________________\n",
      "batch_normalization_v1 (Batc (None, 31, 7, 32)         128       \n",
      "_________________________________________________________________\n",
      "conv2d_1 (Conv2D)            (None, 29, 5, 32)         9248      \n",
      "_________________________________________________________________\n",
      "max_pooling2d_1 (MaxPooling2 (None, 15, 3, 32)         0         \n",
      "_________________________________________________________________\n",
      "batch_normalization_v1_1 (Ba (None, 15, 3, 32)         128       \n",
      "_________________________________________________________________\n",
      "conv2d_2 (Conv2D)            (None, 14, 2, 32)         4128      \n",
      "_________________________________________________________________\n",
      "max_pooling2d_2 (MaxPooling2 (None, 7, 1, 32)          0         \n",
      "_________________________________________________________________\n",
      "flatten (Flatten)            (None, 224)               0         \n",
      "_________________________________________________________________\n",
      "dense (Dense)                (None, 64)                14400     \n",
      "_________________________________________________________________\n",
      "dropout (Dropout)            (None, 64)                0         \n",
      "_________________________________________________________________\n",
      "dense_1 (Dense)              (None, 10)                650       \n",
      "=================================================================\n",
      "Total params: 29,002\n",
      "Trainable params: 28,874\n",
      "Non-trainable params: 128\n",
      "_________________________________________________________________\n"
     ]
    },
    {
     "data": {
      "text/plain": [
       "[array([[[[-0.03258064, -0.03923107, -0.01497506, -0.13095367,\n",
       "            0.05619793,  0.10433422, -0.09973438,  0.09821762,\n",
       "            0.06231214,  0.07526436, -0.03347087,  0.09731309,\n",
       "           -0.00961411,  0.01493856,  0.03290623,  0.05378924,\n",
       "           -0.11534296, -0.04505177,  0.02011031, -0.02303038,\n",
       "            0.10101193,  0.00756796, -0.07064983, -0.0379236 ,\n",
       "            0.08282979,  0.1382852 ,  0.02412863, -0.03306063,\n",
       "            0.05231294,  0.13647385, -0.02904501,  0.08229612]],\n",
       " \n",
       "         [[-0.07804831,  0.07558209, -0.05228055,  0.1079929 ,\n",
       "           -0.06165206,  0.10377917,  0.01250887, -0.1346051 ,\n",
       "            0.07560296,  0.06422621, -0.06370492, -0.06099454,\n",
       "            0.00123976,  0.08460855, -0.08252673, -0.01703686,\n",
       "            0.0231522 , -0.04956051,  0.1067982 , -0.05713806,\n",
       "           -0.05500793, -0.08406467, -0.12412456, -0.05461141,\n",
       "           -0.04419258,  0.09745553, -0.05410348, -0.03827928,\n",
       "            0.06753378,  0.04154304,  0.04633307, -0.08482496]],\n",
       " \n",
       "         [[ 0.11802502, -0.04873024,  0.05400079, -0.05272251,\n",
       "           -0.05772085, -0.00542235,  0.02489381, -0.12412819,\n",
       "           -0.03844756, -0.04136848, -0.13192336,  0.12213458,\n",
       "           -0.0231214 , -0.09693529, -0.12917218, -0.1078912 ,\n",
       "            0.07805587, -0.04445914, -0.13728759,  0.05229877,\n",
       "           -0.01519275,  0.08623691,  0.12153845,  0.11380292,\n",
       "            0.09611203,  0.06331649, -0.13538803,  0.01430409,\n",
       "           -0.12688187, -0.02393436, -0.0186315 ,  0.00681031]]],\n",
       " \n",
       " \n",
       "        [[[ 0.01564305,  0.14100651,  0.0641747 ,  0.09878401,\n",
       "            0.07052064,  0.00818895, -0.04541758,  0.02213365,\n",
       "           -0.03523447,  0.13699038, -0.06209703, -0.02725521,\n",
       "            0.08819923,  0.01060578,  0.13181625,  0.13224606,\n",
       "            0.10627562, -0.11497688,  0.07477249, -0.07903071,\n",
       "           -0.06138967, -0.09131104, -0.11987054, -0.08156002,\n",
       "            0.10487048,  0.13891415,  0.00331014,  0.13358949,\n",
       "           -0.06986438,  0.12564115, -0.00706758,  0.02542117]],\n",
       " \n",
       "         [[ 0.07812348, -0.12948702, -0.07595346, -0.01941765,\n",
       "           -0.03895401,  0.08144951,  0.05851941, -0.08157317,\n",
       "            0.08397426,  0.01569393, -0.00586455, -0.0968504 ,\n",
       "            0.01167659,  0.1350813 , -0.03622533, -0.03723098,\n",
       "           -0.04817665,  0.00231037, -0.13989644, -0.04399052,\n",
       "           -0.04830478, -0.10318923,  0.09050225,  0.1209677 ,\n",
       "            0.06440784,  0.07535365, -0.04564117,  0.10740244,\n",
       "           -0.02406143,  0.08566955, -0.13566187,  0.08736418]],\n",
       " \n",
       "         [[-0.01036194, -0.09629735, -0.0414677 ,  0.0919445 ,\n",
       "            0.06938332,  0.02510418, -0.03639192, -0.01383841,\n",
       "            0.10268794, -0.00491916, -0.09147346, -0.11771134,\n",
       "            0.101181  ,  0.04169817,  0.04056013, -0.09649597,\n",
       "           -0.08413553,  0.13647456, -0.10653266,  0.12148981,\n",
       "            0.0599151 , -0.1323829 , -0.03275446, -0.08415189,\n",
       "            0.03086852,  0.13126092, -0.02642924,  0.03929169,\n",
       "           -0.06626609,  0.06049521,  0.14207186, -0.12182676]]],\n",
       " \n",
       " \n",
       "        [[[-0.09283319, -0.05518408,  0.12031303, -0.08952186,\n",
       "            0.05366752,  0.10144955, -0.11408279,  0.02679966,\n",
       "            0.00127295, -0.04387178,  0.01982304,  0.01827054,\n",
       "           -0.12543742, -0.07719066, -0.08080223, -0.11243451,\n",
       "            0.07313827,  0.07789755, -0.11468294, -0.06308945,\n",
       "           -0.00930865, -0.02116282,  0.12989692,  0.13903196,\n",
       "           -0.10475066, -0.10106975,  0.02210011,  0.11087658,\n",
       "            0.02387814,  0.00462136, -0.08696326, -0.07377332]],\n",
       " \n",
       "         [[-0.13193427, -0.09570237, -0.04485109, -0.08526652,\n",
       "           -0.10976171,  0.14043225,  0.07041363,  0.01725747,\n",
       "            0.08179677, -0.11120749,  0.09590498, -0.0047181 ,\n",
       "           -0.11102836,  0.13958289,  0.08403502, -0.02670621,\n",
       "           -0.01405549,  0.00909719, -0.02699845,  0.08273245,\n",
       "            0.0072912 , -0.01231971, -0.01033781, -0.09075701,\n",
       "            0.033932  ,  0.03507385,  0.00084464, -0.03866895,\n",
       "            0.00865912, -0.05685144,  0.05757245, -0.01984202]],\n",
       " \n",
       "         [[-0.11112805,  0.08975425, -0.04446609, -0.08516797,\n",
       "            0.10028753, -0.11230696,  0.00849414,  0.05025364,\n",
       "           -0.13134961,  0.00160287,  0.02958226, -0.02699432,\n",
       "            0.03226648,  0.03303432,  0.02104828, -0.02731384,\n",
       "           -0.02329762,  0.01114291,  0.00301021,  0.10936968,\n",
       "           -0.06788435,  0.02923912,  0.12671156,  0.11265503,\n",
       "           -0.04928819,  0.00947168,  0.05395752,  0.10520908,\n",
       "           -0.06818683, -0.06617016, -0.02445544,  0.12913485]]]],\n",
       "       dtype=float32),\n",
       " array([0., 0., 0., 0., 0., 0., 0., 0., 0., 0., 0., 0., 0., 0., 0., 0., 0.,\n",
       "        0., 0., 0., 0., 0., 0., 0., 0., 0., 0., 0., 0., 0., 0., 0.],\n",
       "       dtype=float32)]"
      ]
     },
     "execution_count": 228,
     "metadata": {},
     "output_type": "execute_result"
    }
   ],
   "source": [
    "#build the CNN net\n",
    "reset_random_seeds()\n",
    "input_shape=(X_train.shape[1],X_train.shape[2],X_train.shape[3])\n",
    "model=build_model(input_shape)\n",
    "#compile the network\n",
    "optimizer=keras.optimizers.Adam(lr=0.0001)\n",
    "model.compile(optimizer=optimizer,\n",
    "             loss=\"sparse_categorical_crossentropy\",\n",
    "             metrics=['acc'])\n",
    "model.summary()\n",
    "\n",
    "model.layers[0].get_weights()"
   ]
  },
  {
   "cell_type": "code",
   "execution_count": 164,
   "metadata": {},
   "outputs": [
    {
     "name": "stdout",
     "output_type": "stream",
     "text": [
      "(750, 64, 16, 1)\n"
     ]
    }
   ],
   "source": [
    "print(X_test.shape)"
   ]
  },
  {
   "cell_type": "code",
   "execution_count": 165,
   "metadata": {},
   "outputs": [
    {
     "name": "stdout",
     "output_type": "stream",
     "text": [
      "(450, 64, 16, 1)\n"
     ]
    }
   ],
   "source": [
    "print(X_validation.shape)"
   ]
  },
  {
   "cell_type": "code",
   "execution_count": 227,
   "metadata": {},
   "outputs": [],
   "source": [
    "tf.reset_default_graph()"
   ]
  },
  {
   "cell_type": "code",
   "execution_count": null,
   "metadata": {},
   "outputs": [
    {
     "name": "stdout",
     "output_type": "stream",
     "text": [
      "Train on 1800 samples, validate on 450 samples\n",
      "Epoch 1/30\n",
      "1800/1800 [==============================] - 5s 3ms/sample - loss: 2.5091 - acc: 0.1172 - val_loss: 2.3037 - val_acc: 0.0844\n",
      "Epoch 2/30\n",
      "1800/1800 [==============================] - 4s 2ms/sample - loss: 2.1617 - acc: 0.2028 - val_loss: 2.3050 - val_acc: 0.1222\n",
      "Epoch 3/30\n",
      "1800/1800 [==============================] - 4s 2ms/sample - loss: 2.0295 - acc: 0.2744 - val_loss: 2.3042 - val_acc: 0.1178\n",
      "Epoch 4/30\n",
      "1800/1800 [==============================] - 4s 2ms/sample - loss: 1.8890 - acc: 0.3389 - val_loss: 2.3010 - val_acc: 0.1267\n",
      "Epoch 5/30\n",
      "1800/1800 [==============================] - 4s 2ms/sample - loss: 1.7474 - acc: 0.3911 - val_loss: 2.2820 - val_acc: 0.1689\n",
      "Epoch 6/30\n",
      "1800/1800 [==============================] - 4s 2ms/sample - loss: 1.6311 - acc: 0.4406 - val_loss: 2.2446 - val_acc: 0.1822\n",
      "Epoch 7/30\n",
      "1800/1800 [==============================] - 5s 3ms/sample - loss: 1.4961 - acc: 0.4967 - val_loss: 2.2099 - val_acc: 0.1178\n",
      "Epoch 8/30\n",
      "1800/1800 [==============================] - 5s 3ms/sample - loss: 1.4222 - acc: 0.4928 - val_loss: 2.1410 - val_acc: 0.1511\n",
      "Epoch 9/30\n",
      "1800/1800 [==============================] - 4s 2ms/sample - loss: 1.3206 - acc: 0.5528 - val_loss: 2.0729 - val_acc: 0.2156\n",
      "Epoch 10/30\n",
      "1800/1800 [==============================] - 5s 3ms/sample - loss: 1.2382 - acc: 0.5811 - val_loss: 1.8069 - val_acc: 0.3133\n",
      "Epoch 11/30\n",
      "1800/1800 [==============================] - 5s 3ms/sample - loss: 1.1641 - acc: 0.5961 - val_loss: 1.6249 - val_acc: 0.3978\n",
      "Epoch 12/30\n",
      "1800/1800 [==============================] - 6s 3ms/sample - loss: 1.1294 - acc: 0.6050 - val_loss: 1.4480 - val_acc: 0.4733\n",
      "Epoch 13/30\n",
      "1800/1800 [==============================] - 5s 3ms/sample - loss: 1.0671 - acc: 0.6311 - val_loss: 1.2653 - val_acc: 0.5622\n",
      "Epoch 14/30\n",
      "1792/1800 [============================>.] - ETA: 0s - loss: 1.0288 - acc: 0.6373"
     ]
    }
   ],
   "source": [
    "#train the CNN\n",
    "history=model.fit(X_train,y_train,validation_data=(X_validation,y_validation),batch_size=32,epochs=30)"
   ]
  },
  {
   "cell_type": "code",
   "execution_count": 214,
   "metadata": {
    "scrolled": true
   },
   "outputs": [
    {
     "name": "stdout",
     "output_type": "stream",
     "text": [
      "Train on 1800 samples, validate on 450 samples\n",
      "Epoch 1/30\n",
      "1800/1800 [==============================] - 4s 2ms/sample - loss: 2.5091 - acc: 0.1172 - val_loss: 2.3037 - val_acc: 0.0844\n",
      "Epoch 2/30\n",
      "1800/1800 [==============================] - 4s 2ms/sample - loss: 2.1617 - acc: 0.2028 - val_loss: 2.3050 - val_acc: 0.1222\n",
      "Epoch 3/30\n",
      "1800/1800 [==============================] - 4s 2ms/sample - loss: 2.0295 - acc: 0.2744 - val_loss: 2.3042 - val_acc: 0.1178\n",
      "Epoch 4/30\n",
      "1800/1800 [==============================] - 5s 3ms/sample - loss: 1.8890 - acc: 0.3389 - val_loss: 2.3010 - val_acc: 0.1267\n",
      "Epoch 5/30\n",
      "1800/1800 [==============================] - 5s 3ms/sample - loss: 1.7474 - acc: 0.3911 - val_loss: 2.2820 - val_acc: 0.1689\n",
      "Epoch 6/30\n",
      "1800/1800 [==============================] - 4s 2ms/sample - loss: 1.6311 - acc: 0.4406 - val_loss: 2.2446 - val_acc: 0.1822\n",
      "Epoch 7/30\n",
      "1800/1800 [==============================] - 5s 3ms/sample - loss: 1.4961 - acc: 0.4967 - val_loss: 2.2099 - val_acc: 0.1178\n",
      "Epoch 8/30\n",
      "1800/1800 [==============================] - 5s 3ms/sample - loss: 1.4222 - acc: 0.4928 - val_loss: 2.1410 - val_acc: 0.1511\n",
      "Epoch 9/30\n",
      "1800/1800 [==============================] - 4s 2ms/sample - loss: 1.3206 - acc: 0.5528 - val_loss: 2.0729 - val_acc: 0.2156\n",
      "Epoch 10/30\n",
      "1800/1800 [==============================] - 4s 2ms/sample - loss: 1.2382 - acc: 0.5811 - val_loss: 1.8069 - val_acc: 0.3133\n",
      "Epoch 11/30\n",
      "1800/1800 [==============================] - 4s 2ms/sample - loss: 1.1641 - acc: 0.5961 - val_loss: 1.6249 - val_acc: 0.3978\n",
      "Epoch 12/30\n",
      "1800/1800 [==============================] - 4s 2ms/sample - loss: 1.1294 - acc: 0.6050 - val_loss: 1.4480 - val_acc: 0.4733\n",
      "Epoch 13/30\n",
      "1800/1800 [==============================] - 4s 2ms/sample - loss: 1.0671 - acc: 0.6311 - val_loss: 1.2653 - val_acc: 0.5622\n",
      "Epoch 14/30\n",
      "1800/1800 [==============================] - 4s 2ms/sample - loss: 1.0306 - acc: 0.6361 - val_loss: 1.0114 - val_acc: 0.7200\n",
      "Epoch 15/30\n",
      "1800/1800 [==============================] - 4s 2ms/sample - loss: 1.0011 - acc: 0.6528 - val_loss: 1.1798 - val_acc: 0.5511\n",
      "Epoch 16/30\n",
      "1800/1800 [==============================] - 4s 2ms/sample - loss: 0.9903 - acc: 0.6478 - val_loss: 1.1317 - val_acc: 0.5867\n",
      "Epoch 17/30\n",
      "1800/1800 [==============================] - 4s 2ms/sample - loss: 0.9212 - acc: 0.6700 - val_loss: 0.9367 - val_acc: 0.6778\n",
      "Epoch 18/30\n",
      "1800/1800 [==============================] - 4s 2ms/sample - loss: 0.8906 - acc: 0.6939 - val_loss: 0.8659 - val_acc: 0.7111\n",
      "Epoch 19/30\n",
      "1800/1800 [==============================] - 4s 2ms/sample - loss: 0.8519 - acc: 0.7100 - val_loss: 0.9653 - val_acc: 0.6600\n",
      "Epoch 20/30\n",
      "1800/1800 [==============================] - 4s 2ms/sample - loss: 0.8265 - acc: 0.7122 - val_loss: 1.4043 - val_acc: 0.4933\n",
      "Epoch 21/30\n",
      "1800/1800 [==============================] - 4s 2ms/sample - loss: 0.8164 - acc: 0.7133 - val_loss: 0.7687 - val_acc: 0.7489\n",
      "Epoch 22/30\n",
      "1800/1800 [==============================] - 4s 2ms/sample - loss: 0.7957 - acc: 0.7267 - val_loss: 0.9696 - val_acc: 0.6378\n",
      "Epoch 23/30\n",
      "1800/1800 [==============================] - 4s 2ms/sample - loss: 0.7582 - acc: 0.7306 - val_loss: 1.1436 - val_acc: 0.5822\n",
      "Epoch 24/30\n",
      "1800/1800 [==============================] - 4s 2ms/sample - loss: 0.7331 - acc: 0.7472 - val_loss: 0.7627 - val_acc: 0.7644\n",
      "Epoch 25/30\n",
      "1800/1800 [==============================] - 4s 2ms/sample - loss: 0.7393 - acc: 0.7506 - val_loss: 0.8821 - val_acc: 0.6756\n",
      "Epoch 26/30\n",
      "1800/1800 [==============================] - 4s 2ms/sample - loss: 0.7088 - acc: 0.7556 - val_loss: 0.6764 - val_acc: 0.7889\n",
      "Epoch 27/30\n",
      "1800/1800 [==============================] - 4s 2ms/sample - loss: 0.6852 - acc: 0.7683 - val_loss: 0.6648 - val_acc: 0.7711\n",
      "Epoch 28/30\n",
      "1800/1800 [==============================] - 4s 2ms/sample - loss: 0.6607 - acc: 0.7739 - val_loss: 0.7313 - val_acc: 0.7289\n",
      "Epoch 29/30\n",
      "1800/1800 [==============================] - 4s 2ms/sample - loss: 0.6531 - acc: 0.7689 - val_loss: 1.7317 - val_acc: 0.4578\n",
      "Epoch 30/30\n",
      "1800/1800 [==============================] - 4s 2ms/sample - loss: 0.6329 - acc: 0.7817 - val_loss: 0.8064 - val_acc: 0.7200\n"
     ]
    }
   ],
   "source": [
    "#train the CNN\n",
    "history=model.fit(X_train,y_train,validation_data=(X_validation,y_validation),batch_size=32,epochs=30)"
   ]
  },
  {
   "cell_type": "code",
   "execution_count": 129,
   "metadata": {},
   "outputs": [
    {
     "name": "stdout",
     "output_type": "stream",
     "text": [
      "750/750 [==============================] - 0s 365us/sample - loss: 0.8436 - acc: 0.7067\n",
      "Accuracy on test set is: 0.7066666483879089\n"
     ]
    }
   ],
   "source": [
    "#Evaluate the CNN on the test set-mel specaugment and not mel test set only\n",
    "test_error,test_accuracy=model.evaluate(X_test,y_test,verbose=1)\n",
    "print(\"Accuracy on test set is: {}\".format(test_accuracy))"
   ]
  },
  {
   "cell_type": "code",
   "execution_count": 121,
   "metadata": {},
   "outputs": [
    {
     "data": {
      "image/png": "[encoded data removed]",
      "text/plain": [
       "<Figure size 432x288 with 2 Axes>"
      ]
     },
     "metadata": {
      "needs_background": "light"
     },
     "output_type": "display_data"
    }
   ],
   "source": [
    "plot_history(history)"
   ]
  },
  {
   "cell_type": "code",
   "execution_count": 119,
   "metadata": {},
   "outputs": [],
   "source": [
    "model.save(\"CNN-digit-mfcc-sw-new-test\")"
   ]
  },
  {
   "cell_type": "code",
   "execution_count": 122,
   "metadata": {},
   "outputs": [],
   "source": [
    "tf.reset_default_graph()"
   ]
  },
  {
   "cell_type": "markdown",
   "metadata": {},
   "source": [
    "# Train with mfccs+digit classification #trimmed"
   ]
  },
  {
   "cell_type": "code",
   "execution_count": 94,
   "metadata": {},
   "outputs": [
    {
     "name": "stdout",
     "output_type": "stream",
     "text": [
      "Train on 1800 samples, validate on 450 samples\n",
      "Epoch 1/10\n",
      "1800/1800 [==============================] - 7s 4ms/sample - loss: 2.8158 - acc: 0.1378 - val_loss: 2.8072 - val_acc: 0.1533\n",
      "Epoch 2/10\n",
      "1800/1800 [==============================] - 6s 3ms/sample - loss: 2.2254 - acc: 0.2267 - val_loss: 2.2496 - val_acc: 0.2067s - loss\n",
      "Epoch 3/10\n",
      "1800/1800 [==============================] - 6s 3ms/sample - loss: 1.8824 - acc: 0.3278 - val_loss: 1.9167 - val_acc: 0.3267\n",
      "Epoch 4/10\n",
      "1800/1800 [==============================] - 6s 3ms/sample - loss: 1.6470 - acc: 0.4200 - val_loss: 1.6619 - val_acc: 0.4489\n",
      "Epoch 5/10\n",
      "1800/1800 [==============================] - 6s 3ms/sample - loss: 1.4766 - acc: 0.4806 - val_loss: 1.4311 - val_acc: 0.5622\n",
      "Epoch 6/10\n",
      "1800/1800 [==============================] - 6s 3ms/sample - loss: 1.3379 - acc: 0.5550 - val_loss: 1.2536 - val_acc: 0.6222\n",
      "Epoch 7/10\n",
      "1800/1800 [==============================] - 6s 3ms/sample - loss: 1.2528 - acc: 0.5728 - val_loss: 1.1308 - val_acc: 0.6622\n",
      "Epoch 8/10\n",
      "1800/1800 [==============================] - 6s 3ms/sample - loss: 1.1424 - acc: 0.6189 - val_loss: 1.0398 - val_acc: 0.6933\n",
      "Epoch 9/10\n",
      "1800/1800 [==============================] - 6s 3ms/sample - loss: 1.0493 - acc: 0.6383 - val_loss: 0.9600 - val_acc: 0.7067\n",
      "Epoch 10/10\n",
      "1800/1800 [==============================] - 6s 3ms/sample - loss: 1.0269 - acc: 0.6461 - val_loss: 0.9062 - val_acc: 0.7067\n"
     ]
    }
   ],
   "source": [
    "#train the CNN\n",
    "history=model.fit(X_train,y_train,validation_data=(X_validation,y_validation),batch_size=32,epochs=30)"
   ]
  },
  {
   "cell_type": "code",
   "execution_count": 38,
   "metadata": {},
   "outputs": [
    {
     "data": {
      "image/png": "[encoded data removed]",
      "text/plain": [
       "<Figure size 432x288 with 2 Axes>"
      ]
     },
     "metadata": {
      "needs_background": "light"
     },
     "output_type": "display_data"
    }
   ],
   "source": [
    "plot_history(history)"
   ]
  },
  {
   "cell_type": "code",
   "execution_count": 59,
   "metadata": {},
   "outputs": [],
   "source": [
    "model.save(\"CNN-digit-mfcc-sw-new\")"
   ]
  },
  {
   "cell_type": "code",
   "execution_count": 95,
   "metadata": {},
   "outputs": [
    {
     "name": "stdout",
     "output_type": "stream",
     "text": [
      "750/750 [==============================] - 0s 534us/sample - loss: 0.8422 - acc: 0.7267\n",
      "Accuracy on test set is: 0.7266666889190674\n"
     ]
    }
   ],
   "source": [
    "#Evaluate the CNN on the test set-mel specaugment and not mel test set only\n",
    "test_error,test_accuracy=model.evaluate(X_test,y_test,verbose=1)\n",
    "print(\"Accuracy on test set is: {}\".format(test_accuracy))"
   ]
  },
  {
   "cell_type": "code",
   "execution_count": 81,
   "metadata": {},
   "outputs": [
    {
     "name": "stdout",
     "output_type": "stream",
     "text": [
      "750/750 [==============================] - 0s 626us/sample - loss: 0.9289 - acc: 0.6987\n",
      "Accuracy on test set is: 0.6986666917800903\n"
     ]
    }
   ],
   "source": [
    "#Evaluate the CNN on the test set-mel specaugment and not mel test set only\n",
    "test_error,test_accuracy=model.evaluate(X_test,y_test,verbose=1)\n",
    "print(\"Accuracy on test set is: {}\".format(test_accuracy))"
   ]
  },
  {
   "cell_type": "markdown",
   "metadata": {},
   "source": [
    "# Final"
   ]
  },
  {
   "cell_type": "code",
   "execution_count": 79,
   "metadata": {},
   "outputs": [],
   "source": [
    "#load model\n",
    "model_load = keras.models.load_model(\"CNN-genre-mfcc-2-new\")"
   ]
  },
  {
   "cell_type": "code",
   "execution_count": 80,
   "metadata": {},
   "outputs": [
    {
     "name": "stdout",
     "output_type": "stream",
     "text": [
      "750/750 [==============================] - 1s 1ms/sample - loss: 5.2536 - acc: 0.2093\n",
      "Accuracy on test set is: 0.20933333039283752\n"
     ]
    }
   ],
   "source": [
    "#Evaluate the CNN on the test set-mel specaugment and not mel test set only\n",
    "test_error,test_accuracy=model_load.evaluate(X_test,y_test,verbose=1)\n",
    "print(\"Accuracy on test set is: {}\".format(test_accuracy))"
   ]
  },
  {
   "cell_type": "code",
   "execution_count": 81,
   "metadata": {},
   "outputs": [
    {
     "name": "stdout",
     "output_type": "stream",
     "text": [
      "Train on 1800 samples, validate on 450 samples\n",
      "Epoch 1/30\n",
      "1800/1800 [==============================] - 5s 3ms/sample - loss: 1.6938 - acc: 0.4511 - val_loss: 2.4985 - val_acc: 0.4956\n",
      "Epoch 2/30\n",
      "1800/1800 [==============================] - 4s 2ms/sample - loss: 0.8161 - acc: 0.6900 - val_loss: 1.0469 - val_acc: 0.6711\n",
      "Epoch 3/30\n",
      "1800/1800 [==============================] - 4s 2ms/sample - loss: 0.6113 - acc: 0.7733 - val_loss: 0.8393 - val_acc: 0.7222\n",
      "Epoch 4/30\n",
      "1800/1800 [==============================] - 4s 2ms/sample - loss: 0.5158 - acc: 0.8178 - val_loss: 0.7048 - val_acc: 0.7556\n",
      "Epoch 5/30\n",
      "1800/1800 [==============================] - 4s 2ms/sample - loss: 0.4160 - acc: 0.8406 - val_loss: 0.5222 - val_acc: 0.7933\n",
      "Epoch 6/30\n",
      "1800/1800 [==============================] - 4s 2ms/sample - loss: 0.4181 - acc: 0.8400 - val_loss: 0.5331 - val_acc: 0.8156\n",
      "Epoch 7/30\n",
      "1800/1800 [==============================] - 4s 2ms/sample - loss: 0.3461 - acc: 0.8667 - val_loss: 0.4803 - val_acc: 0.8333\n",
      "Epoch 8/30\n",
      "1800/1800 [==============================] - 4s 2ms/sample - loss: 0.3123 - acc: 0.8850 - val_loss: 0.4194 - val_acc: 0.8333\n",
      "Epoch 9/30\n",
      "1800/1800 [==============================] - 4s 2ms/sample - loss: 0.2634 - acc: 0.9056 - val_loss: 0.4779 - val_acc: 0.8356\n",
      "Epoch 10/30\n",
      "1800/1800 [==============================] - 4s 2ms/sample - loss: 0.2556 - acc: 0.9133 - val_loss: 0.4152 - val_acc: 0.8644\n",
      "Epoch 11/30\n",
      "1800/1800 [==============================] - 4s 2ms/sample - loss: 0.2338 - acc: 0.9167 - val_loss: 0.5026 - val_acc: 0.8244\n",
      "Epoch 12/30\n",
      "1800/1800 [==============================] - 4s 2ms/sample - loss: 0.2273 - acc: 0.9222 - val_loss: 0.4130 - val_acc: 0.8467\n",
      "Epoch 13/30\n",
      "1800/1800 [==============================] - 4s 2ms/sample - loss: 0.2071 - acc: 0.9289 - val_loss: 0.4471 - val_acc: 0.8400\n",
      "Epoch 14/30\n",
      "1800/1800 [==============================] - 4s 2ms/sample - loss: 0.1859 - acc: 0.9350 - val_loss: 0.4179 - val_acc: 0.8711\n",
      "Epoch 15/30\n",
      "1800/1800 [==============================] - 4s 2ms/sample - loss: 0.2237 - acc: 0.9206 - val_loss: 0.4269 - val_acc: 0.8556\n",
      "Epoch 16/30\n",
      "1800/1800 [==============================] - 4s 2ms/sample - loss: 0.1530 - acc: 0.9511 - val_loss: 0.4037 - val_acc: 0.8511\n",
      "Epoch 17/30\n",
      "1800/1800 [==============================] - 4s 2ms/sample - loss: 0.1612 - acc: 0.9422 - val_loss: 0.3885 - val_acc: 0.8733\n",
      "Epoch 18/30\n",
      "1800/1800 [==============================] - 4s 2ms/sample - loss: 0.1587 - acc: 0.9406 - val_loss: 0.4283 - val_acc: 0.8467\n",
      "Epoch 19/30\n",
      "1800/1800 [==============================] - 4s 2ms/sample - loss: 0.1878 - acc: 0.9344 - val_loss: 0.4988 - val_acc: 0.8333\n",
      "Epoch 20/30\n",
      "1800/1800 [==============================] - 4s 2ms/sample - loss: 0.1330 - acc: 0.9544 - val_loss: 0.4071 - val_acc: 0.8800\n",
      "Epoch 21/30\n",
      "1800/1800 [==============================] - 4s 2ms/sample - loss: 0.1332 - acc: 0.9528 - val_loss: 0.4227 - val_acc: 0.8622\n",
      "Epoch 22/30\n",
      "1800/1800 [==============================] - 4s 2ms/sample - loss: 0.1044 - acc: 0.9622 - val_loss: 0.3999 - val_acc: 0.8644\n",
      "Epoch 23/30\n",
      "1800/1800 [==============================] - 4s 2ms/sample - loss: 0.1101 - acc: 0.9633 - val_loss: 0.3483 - val_acc: 0.8889\n",
      "Epoch 24/30\n",
      "1800/1800 [==============================] - 4s 2ms/sample - loss: 0.1241 - acc: 0.9589 - val_loss: 0.3896 - val_acc: 0.8756\n",
      "Epoch 25/30\n",
      "1800/1800 [==============================] - 4s 2ms/sample - loss: 0.0940 - acc: 0.9672 - val_loss: 0.3779 - val_acc: 0.8800\n",
      "Epoch 26/30\n",
      "1800/1800 [==============================] - 4s 2ms/sample - loss: 0.0824 - acc: 0.9744 - val_loss: 0.5037 - val_acc: 0.8600\n",
      "Epoch 27/30\n",
      "1800/1800 [==============================] - 4s 2ms/sample - loss: 0.0800 - acc: 0.9722 - val_loss: 0.5257 - val_acc: 0.8578\n",
      "Epoch 28/30\n",
      "1800/1800 [==============================] - 4s 2ms/sample - loss: 0.0840 - acc: 0.9733 - val_loss: 0.3989 - val_acc: 0.8756\n",
      "Epoch 29/30\n",
      "1800/1800 [==============================] - 4s 2ms/sample - loss: 0.0684 - acc: 0.9744 - val_loss: 0.3939 - val_acc: 0.8800\n",
      "Epoch 30/30\n",
      "1800/1800 [==============================] - 4s 2ms/sample - loss: 0.0751 - acc: 0.9750 - val_loss: 0.4181 - val_acc: 0.8711\n"
     ]
    }
   ],
   "source": [
    "history_load_2=model_load.fit(X_train,y_train,validation_data=(X_validation,y_validation),batch_size=32,epochs=30)"
   ]
  },
  {
   "cell_type": "code",
   "execution_count": 44,
   "metadata": {},
   "outputs": [
    {
     "name": "stdout",
     "output_type": "stream",
     "text": [
      "750/750 [==============================] - 0s 396us/sample - loss: 0.4121 - acc: 0.8880\n",
      "Accuracy on test set is: 0.8880000114440918\n"
     ]
    }
   ],
   "source": [
    "#Evaluate the CNN on the test set-mel specaugment and not mel test set only\n",
    "test_error,test_accuracy=model_load_2.evaluate(X_test,y_test,verbose=1)\n",
    "print(\"Accuracy on test set is: {}\".format(test_accuracy))"
   ]
  },
  {
   "cell_type": "code",
   "execution_count": 60,
   "metadata": {},
   "outputs": [],
   "source": [
    "#load model\n",
    "model_load_en_pu = keras.models.load_model(\"CNN-digit-mfcc-en-pu-3-new\")"
   ]
  },
  {
   "cell_type": "code",
   "execution_count": 61,
   "metadata": {},
   "outputs": [
    {
     "name": "stdout",
     "output_type": "stream",
     "text": [
      "750/750 [==============================] - 1s 1ms/sample - loss: 4.0597 - acc: 0.2000\n",
      "Accuracy on test set is: 0.20000000298023224\n"
     ]
    }
   ],
   "source": [
    "#Evaluate the CNN on the test set-mel specaugment and not mel test set only\n",
    "test_error,test_accuracy=model_load_en_pu.evaluate(X_test,y_test,verbose=1)\n",
    "print(\"Accuracy on test set is: {}\".format(test_accuracy))"
   ]
  },
  {
   "cell_type": "code",
   "execution_count": 83,
   "metadata": {},
   "outputs": [
    {
     "name": "stdout",
     "output_type": "stream",
     "text": [
      "Train on 1800 samples, validate on 450 samples\n",
      "Epoch 1/30\n",
      "1800/1800 [==============================] - 6s 4ms/sample - loss: 1.9219 - acc: 0.3839 - val_loss: 1.3518 - val_acc: 0.5044\n",
      "Epoch 2/30\n",
      "1800/1800 [==============================] - 5s 3ms/sample - loss: 1.2428 - acc: 0.5467 - val_loss: 1.1393 - val_acc: 0.5778\n",
      "Epoch 3/30\n",
      "1800/1800 [==============================] - 5s 3ms/sample - loss: 1.0549 - acc: 0.6322 - val_loss: 0.9652 - val_acc: 0.6533\n",
      "Epoch 4/30\n",
      "1800/1800 [==============================] - 5s 3ms/sample - loss: 0.9619 - acc: 0.6578 - val_loss: 0.8971 - val_acc: 0.6489\n",
      "Epoch 5/30\n",
      "1800/1800 [==============================] - 5s 3ms/sample - loss: 0.8936 - acc: 0.6783 - val_loss: 0.7796 - val_acc: 0.7267\n",
      "Epoch 6/30\n",
      "1800/1800 [==============================] - 5s 3ms/sample - loss: 0.8173 - acc: 0.7128 - val_loss: 0.7400 - val_acc: 0.7356\n",
      "Epoch 7/30\n",
      "1800/1800 [==============================] - 5s 3ms/sample - loss: 0.7653 - acc: 0.7350 - val_loss: 0.7275 - val_acc: 0.7267\n",
      "Epoch 8/30\n",
      "1800/1800 [==============================] - 5s 3ms/sample - loss: 0.7200 - acc: 0.7467 - val_loss: 0.7104 - val_acc: 0.7422\n",
      "Epoch 9/30\n",
      "1800/1800 [==============================] - 5s 3ms/sample - loss: 0.7170 - acc: 0.7428 - val_loss: 0.6845 - val_acc: 0.7533\n",
      "Epoch 10/30\n",
      "1800/1800 [==============================] - 5s 3ms/sample - loss: 0.6438 - acc: 0.7711 - val_loss: 0.6431 - val_acc: 0.7822\n",
      "Epoch 11/30\n",
      "1800/1800 [==============================] - 5s 3ms/sample - loss: 0.6247 - acc: 0.7889 - val_loss: 0.6260 - val_acc: 0.7733\n",
      "Epoch 12/30\n",
      "1800/1800 [==============================] - 5s 3ms/sample - loss: 0.5945 - acc: 0.7950 - val_loss: 0.6088 - val_acc: 0.7911\n",
      "Epoch 13/30\n",
      "1800/1800 [==============================] - 5s 3ms/sample - loss: 0.5589 - acc: 0.7994 - val_loss: 0.6095 - val_acc: 0.7844\n",
      "Epoch 14/30\n",
      "1800/1800 [==============================] - 5s 3ms/sample - loss: 0.5585 - acc: 0.7978 - val_loss: 0.5876 - val_acc: 0.7844\n",
      "Epoch 15/30\n",
      "1800/1800 [==============================] - 5s 3ms/sample - loss: 0.5542 - acc: 0.8044 - val_loss: 0.5808 - val_acc: 0.7956\n",
      "Epoch 16/30\n",
      "1800/1800 [==============================] - 5s 3ms/sample - loss: 0.5041 - acc: 0.8317 - val_loss: 0.5672 - val_acc: 0.8089\n",
      "Epoch 17/30\n",
      "1800/1800 [==============================] - 5s 3ms/sample - loss: 0.5055 - acc: 0.8272 - val_loss: 0.5596 - val_acc: 0.7956\n",
      "Epoch 18/30\n",
      "1800/1800 [==============================] - 5s 3ms/sample - loss: 0.4688 - acc: 0.8400 - val_loss: 0.5405 - val_acc: 0.8178\n",
      "Epoch 19/30\n",
      "1800/1800 [==============================] - 5s 3ms/sample - loss: 0.4779 - acc: 0.8417 - val_loss: 0.5331 - val_acc: 0.8156\n",
      "Epoch 20/30\n",
      "1800/1800 [==============================] - 6s 3ms/sample - loss: 0.4393 - acc: 0.8456 - val_loss: 0.5186 - val_acc: 0.8311\n",
      "Epoch 21/30\n",
      "1800/1800 [==============================] - 5s 3ms/sample - loss: 0.4406 - acc: 0.8444 - val_loss: 0.5251 - val_acc: 0.8378\n",
      "Epoch 22/30\n",
      "1800/1800 [==============================] - 5s 3ms/sample - loss: 0.4174 - acc: 0.8661 - val_loss: 0.5075 - val_acc: 0.8267\n",
      "Epoch 23/30\n",
      "1800/1800 [==============================] - 5s 3ms/sample - loss: 0.4015 - acc: 0.8678 - val_loss: 0.4968 - val_acc: 0.8378\n",
      "Epoch 24/30\n",
      "1800/1800 [==============================] - 5s 3ms/sample - loss: 0.4061 - acc: 0.8694 - val_loss: 0.4966 - val_acc: 0.8422\n",
      "Epoch 25/30\n",
      "1800/1800 [==============================] - 5s 3ms/sample - loss: 0.3797 - acc: 0.8767 - val_loss: 0.4889 - val_acc: 0.8444\n",
      "Epoch 26/30\n",
      "1800/1800 [==============================] - 5s 3ms/sample - loss: 0.3834 - acc: 0.8822 - val_loss: 0.4751 - val_acc: 0.8489\n",
      "Epoch 27/30\n",
      "1800/1800 [==============================] - 5s 3ms/sample - loss: 0.3566 - acc: 0.8761 - val_loss: 0.4752 - val_acc: 0.8467\n",
      "Epoch 28/30\n",
      "1800/1800 [==============================] - 5s 3ms/sample - loss: 0.3493 - acc: 0.8744 - val_loss: 0.4704 - val_acc: 0.8400\n",
      "Epoch 29/30\n",
      "1800/1800 [==============================] - 5s 3ms/sample - loss: 0.3221 - acc: 0.8939 - val_loss: 0.4615 - val_acc: 0.8400\n",
      "Epoch 30/30\n",
      "1800/1800 [==============================] - 5s 3ms/sample - loss: 0.3349 - acc: 0.8867 - val_loss: 0.4653 - val_acc: 0.8511\n"
     ]
    }
   ],
   "source": [
    "history_load_pu=model_load_pu.fit(X_train,y_train,validation_data=(X_validation,y_validation),batch_size=32,epochs=30)"
   ]
  },
  {
   "cell_type": "code",
   "execution_count": 84,
   "metadata": {},
   "outputs": [
    {
     "name": "stdout",
     "output_type": "stream",
     "text": [
      "750/750 [==============================] - 0s 540us/sample - loss: 0.4451 - acc: 0.8400\n",
      "Accuracy on test set is: 0.8399999737739563\n"
     ]
    }
   ],
   "source": [
    "#Evaluate the CNN on the test set-mel specaugment and not mel test set only\n",
    "test_error,test_accuracy=model_load_pu.evaluate(X_test,y_test,verbose=1)\n",
    "print(\"Accuracy on test set is: {}\".format(test_accuracy))"
   ]
  },
  {
   "cell_type": "code",
   "execution_count": 55,
   "metadata": {},
   "outputs": [],
   "source": [
    "model_load_en_pu.save(\"CNN-digit-mfcc-en-pu-sw-1-new\")"
   ]
  },
  {
   "cell_type": "code",
   "execution_count": 30,
   "metadata": {},
   "outputs": [],
   "source": [
    "#load model\n",
    "model_load_gu_en_sw = keras.models.load_model(\"CNN-digit-mfcc-pu-en-sw-3-new\")"
   ]
  },
  {
   "cell_type": "code",
   "execution_count": 31,
   "metadata": {},
   "outputs": [
    {
     "name": "stdout",
     "output_type": "stream",
     "text": [
      "750/750 [==============================] - 1s 853us/sample - loss: 0.4695 - acc: 0.8347\n",
      "Accuracy on test set is: 0.8346666693687439\n"
     ]
    }
   ],
   "source": [
    "#Evaluate the CNN on the test set-mel specaugment and not mel test set only\n",
    "test_error,test_accuracy=model_load_gu_en_sw.evaluate(X_test,y_test,verbose=1)\n",
    "print(\"Accuracy on test set is: {}\".format(test_accuracy))"
   ]
  },
  {
   "cell_type": "code",
   "execution_count": null,
   "metadata": {},
   "outputs": [],
   "source": []
  },
  {
   "cell_type": "markdown",
   "metadata": {},
   "source": [
    "# Train with mfccs+digit classification #trimmed# Pre-trained Gujarati model"
   ]
  },
  {
   "cell_type": "code",
   "execution_count": 8,
   "metadata": {},
   "outputs": [
    {
     "name": "stdout",
     "output_type": "stream",
     "text": [
      "WARNING:tensorflow:From C:\\Users\\Alexander\\Anaconda3\\lib\\site-packages\\tensorflow\\python\\ops\\resource_variable_ops.py:435: colocate_with (from tensorflow.python.framework.ops) is deprecated and will be removed in a future version.\n",
      "Instructions for updating:\n",
      "Colocations handled automatically by placer.\n",
      "WARNING:tensorflow:From C:\\Users\\Alexander\\Anaconda3\\lib\\site-packages\\tensorflow\\python\\keras\\layers\\core.py:143: calling dropout (from tensorflow.python.ops.nn_ops) with keep_prob is deprecated and will be removed in a future version.\n",
      "Instructions for updating:\n",
      "Please use `rate` instead of `keep_prob`. Rate should be set to `rate = 1 - keep_prob`.\n"
     ]
    }
   ],
   "source": [
    "#load model\n",
    "model_load_gu = keras.models.load_model(\"CNN-digit-mfcc-pu-new\")"
   ]
  },
  {
   "cell_type": "code",
   "execution_count": 9,
   "metadata": {},
   "outputs": [
    {
     "name": "stdout",
     "output_type": "stream",
     "text": [
      "750/750 [==============================] - 0s 564us/sample - loss: 3.2868 - acc: 0.1640\n",
      "Accuracy on test set is: 0.164000004529953\n"
     ]
    }
   ],
   "source": [
    "#Evaluate the CNN on the test set-mel specaugment and not mel test set only\n",
    "test_error,test_accuracy=model_load_gu.evaluate(X_test,y_test,verbose=1)\n",
    "print(\"Accuracy on test set is: {}\".format(test_accuracy))"
   ]
  },
  {
   "cell_type": "code",
   "execution_count": 67,
   "metadata": {},
   "outputs": [
    {
     "name": "stdout",
     "output_type": "stream",
     "text": [
      "Train on 1800 samples, validate on 450 samples\n",
      "Epoch 1/30\n",
      "1800/1800 [==============================] - 5s 3ms/sample - loss: 1.8833 - acc: 0.4078 - val_loss: 1.3784 - val_acc: 0.5400\n",
      "Epoch 2/30\n",
      "1800/1800 [==============================] - 4s 2ms/sample - loss: 1.2209 - acc: 0.5683 - val_loss: 1.0178 - val_acc: 0.6489\n",
      "Epoch 3/30\n",
      "1800/1800 [==============================] - 4s 2ms/sample - loss: 1.0701 - acc: 0.6311 - val_loss: 0.8900 - val_acc: 0.6956\n",
      "Epoch 4/30\n",
      "1800/1800 [==============================] - 4s 2ms/sample - loss: 0.9556 - acc: 0.6622 - val_loss: 0.7881 - val_acc: 0.7422\n",
      "Epoch 5/30\n",
      "1800/1800 [==============================] - 4s 2ms/sample - loss: 0.8461 - acc: 0.7167 - val_loss: 0.7279 - val_acc: 0.7556\n",
      "Epoch 6/30\n",
      "1800/1800 [==============================] - 4s 2ms/sample - loss: 0.8184 - acc: 0.7117 - val_loss: 0.7043 - val_acc: 0.7578\n",
      "Epoch 7/30\n",
      "1800/1800 [==============================] - 4s 2ms/sample - loss: 0.7619 - acc: 0.7378 - val_loss: 0.6896 - val_acc: 0.7578\n",
      "Epoch 8/30\n",
      "1800/1800 [==============================] - 4s 2ms/sample - loss: 0.6975 - acc: 0.7561 - val_loss: 0.6299 - val_acc: 0.7778\n",
      "Epoch 9/30\n",
      "1800/1800 [==============================] - 4s 2ms/sample - loss: 0.7087 - acc: 0.7522 - val_loss: 0.6056 - val_acc: 0.7756\n",
      "Epoch 10/30\n",
      "1800/1800 [==============================] - 4s 2ms/sample - loss: 0.6367 - acc: 0.7867 - val_loss: 0.5877 - val_acc: 0.8022\n",
      "Epoch 11/30\n",
      "1800/1800 [==============================] - 4s 2ms/sample - loss: 0.6153 - acc: 0.7933 - val_loss: 0.5503 - val_acc: 0.7978\n",
      "Epoch 12/30\n",
      "1800/1800 [==============================] - 4s 2ms/sample - loss: 0.6033 - acc: 0.7994 - val_loss: 0.5473 - val_acc: 0.8067\n",
      "Epoch 13/30\n",
      "1800/1800 [==============================] - 4s 2ms/sample - loss: 0.5590 - acc: 0.8156 - val_loss: 0.5359 - val_acc: 0.7933\n",
      "Epoch 14/30\n",
      "1800/1800 [==============================] - 4s 2ms/sample - loss: 0.5656 - acc: 0.8061 - val_loss: 0.5113 - val_acc: 0.8089\n",
      "Epoch 15/30\n",
      "1800/1800 [==============================] - 4s 2ms/sample - loss: 0.5342 - acc: 0.8189 - val_loss: 0.5108 - val_acc: 0.8111\n",
      "Epoch 16/30\n",
      "1800/1800 [==============================] - 4s 2ms/sample - loss: 0.5155 - acc: 0.8278 - val_loss: 0.5066 - val_acc: 0.8200\n",
      "Epoch 17/30\n",
      "1800/1800 [==============================] - 4s 2ms/sample - loss: 0.4980 - acc: 0.8294 - val_loss: 0.4896 - val_acc: 0.8200\n",
      "Epoch 18/30\n",
      "1800/1800 [==============================] - 4s 2ms/sample - loss: 0.4662 - acc: 0.8428 - val_loss: 0.4831 - val_acc: 0.8267\n",
      "Epoch 19/30\n",
      "1800/1800 [==============================] - 4s 2ms/sample - loss: 0.4829 - acc: 0.8356 - val_loss: 0.4742 - val_acc: 0.8378\n",
      "Epoch 20/30\n",
      "1800/1800 [==============================] - 4s 2ms/sample - loss: 0.4488 - acc: 0.8400 - val_loss: 0.4608 - val_acc: 0.8444\n",
      "Epoch 21/30\n",
      "1800/1800 [==============================] - 4s 2ms/sample - loss: 0.4338 - acc: 0.8628 - val_loss: 0.4556 - val_acc: 0.8267\n",
      "Epoch 22/30\n",
      "1800/1800 [==============================] - 4s 2ms/sample - loss: 0.4292 - acc: 0.8600 - val_loss: 0.4512 - val_acc: 0.8311\n",
      "Epoch 23/30\n",
      "1800/1800 [==============================] - 4s 2ms/sample - loss: 0.4183 - acc: 0.8633 - val_loss: 0.4462 - val_acc: 0.8311\n",
      "Epoch 24/30\n",
      "1800/1800 [==============================] - 4s 2ms/sample - loss: 0.4075 - acc: 0.8667 - val_loss: 0.4435 - val_acc: 0.8333\n",
      "Epoch 25/30\n",
      "1800/1800 [==============================] - 5s 3ms/sample - loss: 0.3940 - acc: 0.8767 - val_loss: 0.4373 - val_acc: 0.8422\n",
      "Epoch 26/30\n",
      "1800/1800 [==============================] - 4s 2ms/sample - loss: 0.3662 - acc: 0.8806 - val_loss: 0.4171 - val_acc: 0.8400\n",
      "Epoch 27/30\n",
      "1800/1800 [==============================] - 4s 2ms/sample - loss: 0.3683 - acc: 0.8800 - val_loss: 0.4284 - val_acc: 0.8400\n",
      "Epoch 28/30\n",
      "1800/1800 [==============================] - 4s 2ms/sample - loss: 0.3963 - acc: 0.8572 - val_loss: 0.4067 - val_acc: 0.8489\n",
      "Epoch 29/30\n",
      "1800/1800 [==============================] - 5s 3ms/sample - loss: 0.3609 - acc: 0.8806 - val_loss: 0.4148 - val_acc: 0.8378\n",
      "Epoch 30/30\n",
      "1800/1800 [==============================] - 4s 2ms/sample - loss: 0.3719 - acc: 0.8783 - val_loss: 0.3928 - val_acc: 0.8556\n"
     ]
    }
   ],
   "source": [
    "history_load_gu=model_load_gu.fit(X_train,y_train,validation_data=(X_validation,y_validation),batch_size=32,epochs=30)"
   ]
  },
  {
   "cell_type": "code",
   "execution_count": 68,
   "metadata": {},
   "outputs": [
    {
     "data": {
      "image/png": "[encoded data removed]",
      "text/plain": [
       "<Figure size 432x288 with 2 Axes>"
      ]
     },
     "metadata": {
      "needs_background": "light"
     },
     "output_type": "display_data"
    }
   ],
   "source": [
    "plot_history(history_load_gu)"
   ]
  },
  {
   "cell_type": "code",
   "execution_count": 69,
   "metadata": {},
   "outputs": [
    {
     "name": "stdout",
     "output_type": "stream",
     "text": [
      "750/750 [==============================] - 0s 418us/sample - loss: 0.4313 - acc: 0.8547\n",
      "Accuracy on test set is: 0.8546666502952576\n"
     ]
    }
   ],
   "source": [
    "#Evaluate the CNN on the test set-mel specaugment and not mel test set only\n",
    "test_error,test_accuracy=model_load_gu.evaluate(X_test,y_test,verbose=1)\n",
    "print(\"Accuracy on test set is: {}\".format(test_accuracy))"
   ]
  },
  {
   "cell_type": "markdown",
   "metadata": {},
   "source": [
    "# Train with mfccs+digit classification #trimmed# Pre-trained english model"
   ]
  },
  {
   "cell_type": "code",
   "execution_count": 60,
   "metadata": {},
   "outputs": [],
   "source": [
    "#load model\n",
    "model_load = keras.models.load_model(\"CNN-digit-mfcc-en-new\")"
   ]
  },
  {
   "cell_type": "code",
   "execution_count": 61,
   "metadata": {},
   "outputs": [
    {
     "name": "stdout",
     "output_type": "stream",
     "text": [
      "750/750 [==============================] - ETA: 0s - loss: 5.2587 - acc: 0.157 - 1s 1ms/sample - loss: 5.2226 - acc: 0.1573\n",
      "Accuracy on test set is: 0.15733332931995392\n"
     ]
    }
   ],
   "source": [
    "#Evaluate the CNN on the test set-mel specaugment and not mel test set only\n",
    "test_error,test_accuracy=model_load.evaluate(X_test,y_test,verbose=1)\n",
    "print(\"Accuracy on test set is: {}\".format(test_accuracy))"
   ]
  },
  {
   "cell_type": "code",
   "execution_count": 62,
   "metadata": {},
   "outputs": [
    {
     "name": "stdout",
     "output_type": "stream",
     "text": [
      "Train on 1800 samples, validate on 450 samples\n",
      "Epoch 1/30\n",
      "1800/1800 [==============================] - 5s 3ms/sample - loss: 2.2858 - acc: 0.3144 - val_loss: 1.9353 - val_acc: 0.3600\n",
      "Epoch 2/30\n",
      "1800/1800 [==============================] - 4s 2ms/sample - loss: 1.3817 - acc: 0.4883 - val_loss: 1.2414 - val_acc: 0.5178\n",
      "Epoch 3/30\n",
      "1800/1800 [==============================] - 4s 2ms/sample - loss: 1.1637 - acc: 0.5717 - val_loss: 1.0383 - val_acc: 0.5956\n",
      "Epoch 4/30\n",
      "1800/1800 [==============================] - 4s 2ms/sample - loss: 1.0373 - acc: 0.6111 - val_loss: 0.9250 - val_acc: 0.6422\n",
      "Epoch 5/30\n",
      "1800/1800 [==============================] - 4s 2ms/sample - loss: 0.9574 - acc: 0.6383 - val_loss: 0.8315 - val_acc: 0.6756\n",
      "Epoch 6/30\n",
      "1800/1800 [==============================] - 4s 2ms/sample - loss: 0.8829 - acc: 0.6800 - val_loss: 0.7757 - val_acc: 0.7000\n",
      "Epoch 7/30\n",
      "1800/1800 [==============================] - 4s 2ms/sample - loss: 0.8200 - acc: 0.7033 - val_loss: 0.7460 - val_acc: 0.7222\n",
      "Epoch 8/30\n",
      "1800/1800 [==============================] - 4s 2ms/sample - loss: 0.7594 - acc: 0.7283 - val_loss: 0.7097 - val_acc: 0.7333\n",
      "Epoch 9/30\n",
      "1800/1800 [==============================] - 4s 2ms/sample - loss: 0.7634 - acc: 0.7150 - val_loss: 0.6627 - val_acc: 0.7689\n",
      "Epoch 10/30\n",
      "1800/1800 [==============================] - 4s 2ms/sample - loss: 0.7048 - acc: 0.7528 - val_loss: 0.6403 - val_acc: 0.7889\n",
      "Epoch 11/30\n",
      "1800/1800 [==============================] - 4s 2ms/sample - loss: 0.6648 - acc: 0.7606 - val_loss: 0.6024 - val_acc: 0.7889\n",
      "Epoch 12/30\n",
      "1800/1800 [==============================] - 4s 2ms/sample - loss: 0.6452 - acc: 0.7694 - val_loss: 0.5857 - val_acc: 0.8067\n",
      "Epoch 13/30\n",
      "1800/1800 [==============================] - 4s 2ms/sample - loss: 0.6430 - acc: 0.7661 - val_loss: 0.5700 - val_acc: 0.8044\n",
      "Epoch 14/30\n",
      "1800/1800 [==============================] - 4s 2ms/sample - loss: 0.6027 - acc: 0.7822 - val_loss: 0.5642 - val_acc: 0.8244\n",
      "Epoch 15/30\n",
      "1800/1800 [==============================] - 4s 2ms/sample - loss: 0.6168 - acc: 0.7728 - val_loss: 0.5358 - val_acc: 0.8156: \n",
      "Epoch 16/30\n",
      "1800/1800 [==============================] - 4s 2ms/sample - loss: 0.5577 - acc: 0.8194 - val_loss: 0.5128 - val_acc: 0.8178\n",
      "Epoch 17/30\n",
      "1800/1800 [==============================] - 4s 2ms/sample - loss: 0.5551 - acc: 0.7944 - val_loss: 0.5087 - val_acc: 0.8133\n",
      "Epoch 18/30\n",
      "1800/1800 [==============================] - 4s 2ms/sample - loss: 0.5526 - acc: 0.8078 - val_loss: 0.4902 - val_acc: 0.8356\n",
      "Epoch 19/30\n",
      "1800/1800 [==============================] - 5s 3ms/sample - loss: 0.5367 - acc: 0.8217 - val_loss: 0.4947 - val_acc: 0.8356\n",
      "Epoch 20/30\n",
      "1800/1800 [==============================] - 4s 2ms/sample - loss: 0.5205 - acc: 0.8211 - val_loss: 0.4738 - val_acc: 0.8356\n",
      "Epoch 21/30\n",
      "1800/1800 [==============================] - 4s 2ms/sample - loss: 0.5033 - acc: 0.8200 - val_loss: 0.4716 - val_acc: 0.8311\n",
      "Epoch 22/30\n",
      "1800/1800 [==============================] - 4s 2ms/sample - loss: 0.4753 - acc: 0.8272 - val_loss: 0.4680 - val_acc: 0.8444\n",
      "Epoch 23/30\n",
      "1800/1800 [==============================] - 4s 2ms/sample - loss: 0.4864 - acc: 0.8289 - val_loss: 0.4530 - val_acc: 0.8444\n",
      "Epoch 24/30\n",
      "1800/1800 [==============================] - 4s 2ms/sample - loss: 0.4564 - acc: 0.8417 - val_loss: 0.4391 - val_acc: 0.8422\n",
      "Epoch 25/30\n",
      "1800/1800 [==============================] - 4s 2ms/sample - loss: 0.4466 - acc: 0.8444 - val_loss: 0.4399 - val_acc: 0.8467\n",
      "Epoch 26/30\n",
      "1800/1800 [==============================] - 5s 3ms/sample - loss: 0.4296 - acc: 0.8517 - val_loss: 0.4276 - val_acc: 0.8489\n",
      "Epoch 27/30\n",
      "1800/1800 [==============================] - 5s 3ms/sample - loss: 0.4265 - acc: 0.8467 - val_loss: 0.4248 - val_acc: 0.8511\n",
      "Epoch 28/30\n",
      "1800/1800 [==============================] - 4s 2ms/sample - loss: 0.4197 - acc: 0.8633 - val_loss: 0.4317 - val_acc: 0.8289\n",
      "Epoch 29/30\n",
      "1800/1800 [==============================] - 4s 2ms/sample - loss: 0.4150 - acc: 0.8594 - val_loss: 0.4503 - val_acc: 0.8511A: 0s - loss: 0.412\n",
      "Epoch 30/30\n",
      "1800/1800 [==============================] - 4s 2ms/sample - loss: 0.4064 - acc: 0.8583 - val_loss: 0.4148 - val_acc: 0.8533\n"
     ]
    }
   ],
   "source": [
    "history_load=model_load.fit(X_train,y_train,validation_data=(X_validation,y_validation),batch_size=32,epochs=30)"
   ]
  },
  {
   "cell_type": "code",
   "execution_count": 63,
   "metadata": {},
   "outputs": [
    {
     "data": {
      "image/png": "[encoded data removed]",
      "text/plain": [
       "<Figure size 432x288 with 2 Axes>"
      ]
     },
     "metadata": {
      "needs_background": "light"
     },
     "output_type": "display_data"
    }
   ],
   "source": [
    "plot_history(history_load)"
   ]
  },
  {
   "cell_type": "code",
   "execution_count": 64,
   "metadata": {},
   "outputs": [
    {
     "name": "stdout",
     "output_type": "stream",
     "text": [
      "750/750 [==============================] - 0s 403us/sample - loss: 0.4510 - acc: 0.8453\n",
      "Accuracy on test set is: 0.8453333377838135\n"
     ]
    }
   ],
   "source": [
    "#Evaluate the CNN on the test set-mel specaugment and not mel test set only\n",
    "test_error,test_accuracy=model_load.evaluate(X_test,y_test,verbose=1)\n",
    "print(\"Accuracy on test set is: {}\".format(test_accuracy))"
   ]
  },
  {
   "cell_type": "markdown",
   "metadata": {},
   "source": [
    "# Train with mfccs+gender classification"
   ]
  },
  {
   "cell_type": "code",
   "execution_count": 42,
   "metadata": {},
   "outputs": [
    {
     "name": "stdout",
     "output_type": "stream",
     "text": [
      "Train on 1800 samples, validate on 450 samples\n",
      "Epoch 1/30\n",
      "1800/1800 [==============================] - 10s 5ms/sample - loss: 0.7611 - acc: 0.6189 - val_loss: 0.7571 - val_acc: 0.6400\n",
      "Epoch 2/30\n",
      "1800/1800 [==============================] - 9s 5ms/sample - loss: 0.5072 - acc: 0.7611 - val_loss: 0.5450 - val_acc: 0.6867\n",
      "Epoch 3/30\n",
      "1800/1800 [==============================] - 9s 5ms/sample - loss: 0.4062 - acc: 0.8194 - val_loss: 0.4637 - val_acc: 0.7933\n",
      "Epoch 4/30\n",
      "1800/1800 [==============================] - 9s 5ms/sample - loss: 0.3443 - acc: 0.8411 - val_loss: 0.3894 - val_acc: 0.8267\n",
      "Epoch 5/30\n",
      "1800/1800 [==============================] - 9s 5ms/sample - loss: 0.3119 - acc: 0.8672 - val_loss: 0.3490 - val_acc: 0.8511\n",
      "Epoch 6/30\n",
      "1800/1800 [==============================] - 9s 5ms/sample - loss: 0.2693 - acc: 0.8806 - val_loss: 0.3045 - val_acc: 0.8667\n",
      "Epoch 7/30\n",
      "1800/1800 [==============================] - 9s 5ms/sample - loss: 0.2350 - acc: 0.9044 - val_loss: 0.3011 - val_acc: 0.8711\n",
      "Epoch 8/30\n",
      "1800/1800 [==============================] - 11s 6ms/sample - loss: 0.2334 - acc: 0.9022 - val_loss: 0.2766 - val_acc: 0.8889\n",
      "Epoch 9/30\n",
      "1800/1800 [==============================] - 10s 5ms/sample - loss: 0.2051 - acc: 0.9161 - val_loss: 0.2835 - val_acc: 0.8667\n",
      "Epoch 10/30\n",
      "1800/1800 [==============================] - 10s 5ms/sample - loss: 0.1956 - acc: 0.9178 - val_loss: 0.2450 - val_acc: 0.9022\n",
      "Epoch 11/30\n",
      "1800/1800 [==============================] - 9s 5ms/sample - loss: 0.1726 - acc: 0.9300 - val_loss: 0.2328 - val_acc: 0.9000\n",
      "Epoch 12/30\n",
      "1800/1800 [==============================] - 9s 5ms/sample - loss: 0.1550 - acc: 0.9422 - val_loss: 0.2283 - val_acc: 0.9000\n",
      "Epoch 13/30\n",
      "1800/1800 [==============================] - 9s 5ms/sample - loss: 0.1571 - acc: 0.9372 - val_loss: 0.2292 - val_acc: 0.9044\n",
      "Epoch 14/30\n",
      "1800/1800 [==============================] - 9s 5ms/sample - loss: 0.1480 - acc: 0.9433 - val_loss: 0.3436 - val_acc: 0.8889\n",
      "Epoch 15/30\n",
      "1800/1800 [==============================] - 9s 5ms/sample - loss: 0.1392 - acc: 0.9494 - val_loss: 0.2204 - val_acc: 0.9156\n",
      "Epoch 16/30\n",
      "1800/1800 [==============================] - 9s 5ms/sample - loss: 0.1288 - acc: 0.9461 - val_loss: 0.1982 - val_acc: 0.9133\n",
      "Epoch 17/30\n",
      "1800/1800 [==============================] - 9s 5ms/sample - loss: 0.1188 - acc: 0.9578 - val_loss: 0.2067 - val_acc: 0.9133\n",
      "Epoch 18/30\n",
      "1800/1800 [==============================] - 9s 5ms/sample - loss: 0.1206 - acc: 0.9489 - val_loss: 0.2202 - val_acc: 0.9178\n",
      "Epoch 19/30\n",
      "1800/1800 [==============================] - 9s 5ms/sample - loss: 0.1155 - acc: 0.9578 - val_loss: 0.1983 - val_acc: 0.9178\n",
      "Epoch 20/30\n",
      "1800/1800 [==============================] - 9s 5ms/sample - loss: 0.1053 - acc: 0.9617 - val_loss: 0.1899 - val_acc: 0.9267\n",
      "Epoch 21/30\n",
      "1800/1800 [==============================] - 9s 5ms/sample - loss: 0.1002 - acc: 0.9639 - val_loss: 0.1895 - val_acc: 0.9222\n",
      "Epoch 22/30\n",
      "1800/1800 [==============================] - 9s 5ms/sample - loss: 0.0930 - acc: 0.9678 - val_loss: 0.1951 - val_acc: 0.9178\n",
      "Epoch 23/30\n",
      "1800/1800 [==============================] - 9s 5ms/sample - loss: 0.0859 - acc: 0.9706 - val_loss: 0.1952 - val_acc: 0.9200\n",
      "Epoch 24/30\n",
      "1800/1800 [==============================] - 9s 5ms/sample - loss: 0.0754 - acc: 0.9739 - val_loss: 0.2008 - val_acc: 0.9244\n",
      "Epoch 25/30\n",
      "1800/1800 [==============================] - 9s 5ms/sample - loss: 0.0751 - acc: 0.9711 - val_loss: 0.1823 - val_acc: 0.9267\n",
      "Epoch 26/30\n",
      "1800/1800 [==============================] - 9s 5ms/sample - loss: 0.0753 - acc: 0.9756 - val_loss: 0.1897 - val_acc: 0.9289\n",
      "Epoch 27/30\n",
      "1800/1800 [==============================] - 9s 5ms/sample - loss: 0.0711 - acc: 0.9722 - val_loss: 0.1840 - val_acc: 0.9333\n",
      "Epoch 28/30\n",
      "1800/1800 [==============================] - 9s 5ms/sample - loss: 0.0713 - acc: 0.9750 - val_loss: 0.1743 - val_acc: 0.9267\n",
      "Epoch 29/30\n",
      "1800/1800 [==============================] - 9s 5ms/sample - loss: 0.0574 - acc: 0.9817 - val_loss: 0.1755 - val_acc: 0.9378\n",
      "Epoch 30/30\n",
      "1800/1800 [==============================] - 9s 5ms/sample - loss: 0.0688 - acc: 0.9778 - val_loss: 0.1971 - val_acc: 0.9178\n"
     ]
    }
   ],
   "source": [
    "#train the CNN\n",
    "history=model.fit(X_train,y_train,validation_data=(X_validation,y_validation),batch_size=32,epochs=30)"
   ]
  },
  {
   "cell_type": "code",
   "execution_count": 43,
   "metadata": {},
   "outputs": [],
   "source": [
    "model.save(\"CNN-gender-mfcc\")"
   ]
  },
  {
   "cell_type": "code",
   "execution_count": 44,
   "metadata": {},
   "outputs": [
    {
     "name": "stdout",
     "output_type": "stream",
     "text": [
      "750/750 [==============================] - 1s 821us/sample - loss: 0.1700 - acc: 0.9320\n",
      "Accuracy on test set is: 0.9319999814033508\n"
     ]
    }
   ],
   "source": [
    "#Evaluate the CNN on the test set-mel specaugment and not mel test set only\n",
    "test_error,test_accuracy=model.evaluate(X_test,y_test,verbose=1)\n",
    "print(\"Accuracy on test set is: {}\".format(test_accuracy))"
   ]
  },
  {
   "cell_type": "markdown",
   "metadata": {},
   "source": [
    "# Train with mfccs+digit classification"
   ]
  },
  {
   "cell_type": "code",
   "execution_count": 14,
   "metadata": {},
   "outputs": [
    {
     "name": "stdout",
     "output_type": "stream",
     "text": [
      "Train on 1800 samples, validate on 450 samples\n",
      "Epoch 1/30\n",
      "1800/1800 [==============================] - 10s 6ms/sample - loss: 2.6302 - acc: 0.1244 - val_loss: 2.4814 - val_acc: 0.0956\n",
      "Epoch 2/30\n",
      "1800/1800 [==============================] - 9s 5ms/sample - loss: 2.0984 - acc: 0.2561 - val_loss: 2.2120 - val_acc: 0.1756\n",
      "Epoch 3/30\n",
      "1800/1800 [==============================] - 9s 5ms/sample - loss: 1.8566 - acc: 0.3406 - val_loss: 2.0176 - val_acc: 0.3222\n",
      "Epoch 4/30\n",
      "1800/1800 [==============================] - 9s 5ms/sample - loss: 1.6658 - acc: 0.3811 - val_loss: 1.8079 - val_acc: 0.4111\n",
      "Epoch 5/30\n",
      "1800/1800 [==============================] - 9s 5ms/sample - loss: 1.5228 - acc: 0.4550 - val_loss: 1.6093 - val_acc: 0.5089\n",
      "Epoch 6/30\n",
      "1800/1800 [==============================] - 11s 6ms/sample - loss: 1.3814 - acc: 0.5239 - val_loss: 1.4253 - val_acc: 0.5622\n",
      "Epoch 7/30\n",
      "1800/1800 [==============================] - 10s 5ms/sample - loss: 1.2671 - acc: 0.5572 - val_loss: 1.2697 - val_acc: 0.5889\n",
      "Epoch 8/30\n",
      "1800/1800 [==============================] - 11s 6ms/sample - loss: 1.1889 - acc: 0.5850 - val_loss: 1.1843 - val_acc: 0.6244\n",
      "Epoch 9/30\n",
      "1800/1800 [==============================] - 10s 5ms/sample - loss: 1.1098 - acc: 0.6111 - val_loss: 1.1501 - val_acc: 0.6067\n",
      "Epoch 10/30\n",
      "1800/1800 [==============================] - 10s 6ms/sample - loss: 1.0237 - acc: 0.6467 - val_loss: 1.0591 - val_acc: 0.6400\n",
      "Epoch 11/30\n",
      "1800/1800 [==============================] - 11s 6ms/sample - loss: 0.9850 - acc: 0.6550 - val_loss: 0.9918 - val_acc: 0.6578\n",
      "Epoch 12/30\n",
      "1800/1800 [==============================] - 10s 5ms/sample - loss: 0.9509 - acc: 0.6656 - val_loss: 0.9618 - val_acc: 0.6644\n",
      "Epoch 13/30\n",
      "1800/1800 [==============================] - 11s 6ms/sample - loss: 0.8851 - acc: 0.6961 - val_loss: 0.9491 - val_acc: 0.6867\n",
      "Epoch 14/30\n",
      "1800/1800 [==============================] - 11s 6ms/sample - loss: 0.8371 - acc: 0.7200 - val_loss: 0.8904 - val_acc: 0.6956\n",
      "Epoch 15/30\n",
      "1800/1800 [==============================] - 9s 5ms/sample - loss: 0.7929 - acc: 0.7306 - val_loss: 0.8695 - val_acc: 0.6978\n",
      "Epoch 16/30\n",
      "1800/1800 [==============================] - 10s 6ms/sample - loss: 0.7377 - acc: 0.7461 - val_loss: 0.8323 - val_acc: 0.7111\n",
      "Epoch 17/30\n",
      "1800/1800 [==============================] - 11s 6ms/sample - loss: 0.7313 - acc: 0.7489 - val_loss: 0.8091 - val_acc: 0.7133\n",
      "Epoch 18/30\n",
      "1800/1800 [==============================] - 10s 6ms/sample - loss: 0.7097 - acc: 0.7522 - val_loss: 0.7910 - val_acc: 0.7400\n",
      "Epoch 19/30\n",
      "1800/1800 [==============================] - 9s 5ms/sample - loss: 0.6693 - acc: 0.7700 - val_loss: 0.7833 - val_acc: 0.7200\n",
      "Epoch 20/30\n",
      "1800/1800 [==============================] - 9s 5ms/sample - loss: 0.6402 - acc: 0.7772 - val_loss: 0.7491 - val_acc: 0.7444\n",
      "Epoch 21/30\n",
      "1800/1800 [==============================] - 9s 5ms/sample - loss: 0.6403 - acc: 0.7811 - val_loss: 0.7294 - val_acc: 0.7333\n",
      "Epoch 22/30\n",
      "1800/1800 [==============================] - 9s 5ms/sample - loss: 0.5898 - acc: 0.7967 - val_loss: 0.7241 - val_acc: 0.7356\n",
      "Epoch 23/30\n",
      "1800/1800 [==============================] - 9s 5ms/sample - loss: 0.5580 - acc: 0.8117 - val_loss: 0.7259 - val_acc: 0.7356\n",
      "Epoch 24/30\n",
      "1800/1800 [==============================] - 9s 5ms/sample - loss: 0.5379 - acc: 0.8206 - val_loss: 0.6961 - val_acc: 0.7511\n",
      "Epoch 25/30\n",
      "1800/1800 [==============================] - 9s 5ms/sample - loss: 0.5090 - acc: 0.8206 - val_loss: 0.6854 - val_acc: 0.7644\n",
      "Epoch 26/30\n",
      "1800/1800 [==============================] - 9s 5ms/sample - loss: 0.5003 - acc: 0.8250 - val_loss: 0.6778 - val_acc: 0.7467\n",
      "Epoch 27/30\n",
      "1800/1800 [==============================] - 9s 5ms/sample - loss: 0.4871 - acc: 0.8333 - val_loss: 0.6669 - val_acc: 0.7533\n",
      "Epoch 28/30\n",
      "1800/1800 [==============================] - 9s 5ms/sample - loss: 0.4760 - acc: 0.8417 - val_loss: 0.6923 - val_acc: 0.7333\n",
      "Epoch 29/30\n",
      "1800/1800 [==============================] - 12s 7ms/sample - loss: 0.4728 - acc: 0.8456 - val_loss: 0.6508 - val_acc: 0.7756\n",
      "Epoch 30/30\n",
      "1800/1800 [==============================] - 11s 6ms/sample - loss: 0.4443 - acc: 0.8461 - val_loss: 0.6419 - val_acc: 0.7822\n"
     ]
    }
   ],
   "source": [
    "#train the CNN\n",
    "history=model.fit(X_train,y_train,validation_data=(X_validation,y_validation),batch_size=32,epochs=30)"
   ]
  },
  {
   "cell_type": "code",
   "execution_count": null,
   "metadata": {},
   "outputs": [],
   "source": [
    "model.save(\"CNN-digit-mfcc\")"
   ]
  },
  {
   "cell_type": "code",
   "execution_count": 15,
   "metadata": {},
   "outputs": [
    {
     "name": "stdout",
     "output_type": "stream",
     "text": [
      "750/750 [==============================] - 1s 814us/sample - loss: 0.6079 - acc: 0.7760\n",
      "Accuracy on test set is: 0.7760000228881836\n"
     ]
    }
   ],
   "source": [
    "#Evaluate the CNN on the test set-mel specaugment and not mel test set only\n",
    "test_error,test_accuracy=model.evaluate(X_test,y_test,verbose=1)\n",
    "print(\"Accuracy on test set is: {}\".format(test_accuracy))"
   ]
  },
  {
   "cell_type": "markdown",
   "metadata": {},
   "source": [
    "# Train with mfccs"
   ]
  },
  {
   "cell_type": "code",
   "execution_count": 14,
   "metadata": {},
   "outputs": [
    {
     "name": "stdout",
     "output_type": "stream",
     "text": [
      "Train on 1800 samples, validate on 450 samples\n",
      "Epoch 1/30\n",
      "1800/1800 [==============================] - 4s 2ms/sample - loss: 2.7451 - acc: 0.1211 - val_loss: 2.3583 - val_acc: 0.1578\n",
      "Epoch 2/30\n",
      "1800/1800 [==============================] - 3s 2ms/sample - loss: 2.1610 - acc: 0.2256 - val_loss: 2.1771 - val_acc: 0.2444\n",
      "Epoch 3/30\n",
      "1800/1800 [==============================] - 3s 2ms/sample - loss: 1.8901 - acc: 0.3267 - val_loss: 1.9827 - val_acc: 0.3933\n",
      "Epoch 4/30\n",
      "1800/1800 [==============================] - 3s 2ms/sample - loss: 1.6707 - acc: 0.4228 - val_loss: 1.7463 - val_acc: 0.5267\n",
      "Epoch 5/30\n",
      "1800/1800 [==============================] - 3s 2ms/sample - loss: 1.4768 - acc: 0.5233 - val_loss: 1.5023 - val_acc: 0.6156\n",
      "Epoch 6/30\n",
      "1800/1800 [==============================] - 3s 2ms/sample - loss: 1.3241 - acc: 0.5722 - val_loss: 1.2610 - val_acc: 0.7111\n",
      "Epoch 7/30\n",
      "1800/1800 [==============================] - 3s 2ms/sample - loss: 1.1826 - acc: 0.6217 - val_loss: 1.0616 - val_acc: 0.8044\n",
      "Epoch 8/30\n",
      "1800/1800 [==============================] - 3s 2ms/sample - loss: 1.0331 - acc: 0.6778 - val_loss: 0.8748 - val_acc: 0.8422\n",
      "Epoch 9/30\n",
      "1800/1800 [==============================] - 3s 2ms/sample - loss: 0.9528 - acc: 0.7050 - val_loss: 0.7553 - val_acc: 0.8733\n",
      "Epoch 10/30\n",
      "1800/1800 [==============================] - 3s 2ms/sample - loss: 0.8518 - acc: 0.7450 - val_loss: 0.6548 - val_acc: 0.9067\n",
      "Epoch 11/30\n",
      "1800/1800 [==============================] - 3s 2ms/sample - loss: 0.7814 - acc: 0.7556 - val_loss: 0.5825 - val_acc: 0.9156\n",
      "Epoch 12/30\n",
      "1800/1800 [==============================] - 3s 2ms/sample - loss: 0.7397 - acc: 0.7839 - val_loss: 0.5074 - val_acc: 0.9133\n",
      "Epoch 13/30\n",
      "1800/1800 [==============================] - 3s 2ms/sample - loss: 0.6735 - acc: 0.7994 - val_loss: 0.4549 - val_acc: 0.9311\n",
      "Epoch 14/30\n",
      "1800/1800 [==============================] - 3s 2ms/sample - loss: 0.5958 - acc: 0.8389 - val_loss: 0.4073 - val_acc: 0.9444\n",
      "Epoch 15/30\n",
      "1800/1800 [==============================] - 3s 2ms/sample - loss: 0.5483 - acc: 0.8472 - val_loss: 0.3845 - val_acc: 0.9467\n",
      "Epoch 16/30\n",
      "1800/1800 [==============================] - 3s 2ms/sample - loss: 0.5347 - acc: 0.8433 - val_loss: 0.3318 - val_acc: 0.9533\n",
      "Epoch 17/30\n",
      "1800/1800 [==============================] - 3s 2ms/sample - loss: 0.4929 - acc: 0.8583 - val_loss: 0.3103 - val_acc: 0.9511\n",
      "Epoch 18/30\n",
      "1800/1800 [==============================] - 3s 2ms/sample - loss: 0.4623 - acc: 0.8606 - val_loss: 0.2998 - val_acc: 0.9556\n",
      "Epoch 19/30\n",
      "1800/1800 [==============================] - 3s 2ms/sample - loss: 0.4091 - acc: 0.8944 - val_loss: 0.2595 - val_acc: 0.9556\n",
      "Epoch 20/30\n",
      "1800/1800 [==============================] - 3s 2ms/sample - loss: 0.3820 - acc: 0.8994 - val_loss: 0.2491 - val_acc: 0.9622\n",
      "Epoch 21/30\n",
      "1800/1800 [==============================] - 3s 2ms/sample - loss: 0.3573 - acc: 0.9011 - val_loss: 0.2408 - val_acc: 0.9511\n",
      "Epoch 22/30\n",
      "1800/1800 [==============================] - 3s 2ms/sample - loss: 0.3307 - acc: 0.9133 - val_loss: 0.2397 - val_acc: 0.9511\n",
      "Epoch 23/30\n",
      "1800/1800 [==============================] - 3s 2ms/sample - loss: 0.3189 - acc: 0.9117 - val_loss: 0.2073 - val_acc: 0.9667\n",
      "Epoch 24/30\n",
      "1800/1800 [==============================] - 3s 2ms/sample - loss: 0.2900 - acc: 0.9233 - val_loss: 0.2016 - val_acc: 0.9644\n",
      "Epoch 25/30\n",
      "1800/1800 [==============================] - 3s 2ms/sample - loss: 0.3026 - acc: 0.9144 - val_loss: 0.2009 - val_acc: 0.9667\n",
      "Epoch 26/30\n",
      "1800/1800 [==============================] - 3s 2ms/sample - loss: 0.2784 - acc: 0.9272 - val_loss: 0.1847 - val_acc: 0.9644\n",
      "Epoch 27/30\n",
      "1800/1800 [==============================] - 3s 2ms/sample - loss: 0.2568 - acc: 0.9356 - val_loss: 0.1776 - val_acc: 0.9644\n",
      "Epoch 28/30\n",
      "1800/1800 [==============================] - 3s 2ms/sample - loss: 0.2539 - acc: 0.9272 - val_loss: 0.1677 - val_acc: 0.9689\n",
      "Epoch 29/30\n",
      "1800/1800 [==============================] - 3s 2ms/sample - loss: 0.2360 - acc: 0.9378 - val_loss: 0.1561 - val_acc: 0.9689\n",
      "Epoch 30/30\n",
      "1800/1800 [==============================] - 3s 2ms/sample - loss: 0.2329 - acc: 0.9333 - val_loss: 0.1467 - val_acc: 0.9711\n"
     ]
    }
   ],
   "source": [
    "#train the CNN\n",
    "history=model.fit(X_train,y_train,validation_data=(X_validation,y_validation),batch_size=32,epochs=30)"
   ]
  },
  {
   "cell_type": "code",
   "execution_count": 15,
   "metadata": {},
   "outputs": [
    {
     "name": "stdout",
     "output_type": "stream",
     "text": [
      "750/750 [==============================] - 0s 327us/sample - loss: 0.1623 - acc: 0.9653\n",
      "Accuracy on test set is: 0.9653333425521851\n"
     ]
    }
   ],
   "source": [
    "#Evaluate the CNN on the test set-mfcc\n",
    "test_error,test_accuracy=model.evaluate(X_test,y_test,verbose=1)\n",
    "print(\"Accuracy on test set is: {}\".format(test_accuracy))"
   ]
  },
  {
   "cell_type": "markdown",
   "metadata": {},
   "source": [
    "# Train with specAugment"
   ]
  },
  {
   "cell_type": "code",
   "execution_count": 19,
   "metadata": {},
   "outputs": [
    {
     "name": "stdout",
     "output_type": "stream",
     "text": [
      "Train on 1800 samples, validate on 450 samples\n",
      "Epoch 1/30\n",
      "1800/1800 [==============================] - 87s 48ms/sample - loss: 2.5684 - acc: 0.1461 - val_loss: 2.3019 - val_acc: 0.1111\n",
      "Epoch 2/30\n",
      "1800/1800 [==============================] - 80s 45ms/sample - loss: 2.1483 - acc: 0.2406 - val_loss: 2.3061 - val_acc: 0.1022\n",
      "Epoch 3/30\n",
      "1800/1800 [==============================] - 96s 53ms/sample - loss: 1.9968 - acc: 0.2917 - val_loss: 2.3052 - val_acc: 0.1022\n",
      "Epoch 4/30\n",
      "1800/1800 [==============================] - 99s 55ms/sample - loss: 1.8772 - acc: 0.3411 - val_loss: 2.3044 - val_acc: 0.1178\n",
      "Epoch 5/30\n",
      "1800/1800 [==============================] - 100s 55ms/sample - loss: 1.7800 - acc: 0.3706 - val_loss: 2.3013 - val_acc: 0.1311\n",
      "Epoch 6/30\n",
      "1800/1800 [==============================] - 98s 55ms/sample - loss: 1.6610 - acc: 0.4244 - val_loss: 2.3019 - val_acc: 0.1444\n",
      "Epoch 7/30\n",
      "1800/1800 [==============================] - 94s 52ms/sample - loss: 1.5850 - acc: 0.4422 - val_loss: 2.2646 - val_acc: 0.1711\n",
      "Epoch 8/30\n",
      "1800/1800 [==============================] - 83s 46ms/sample - loss: 1.5241 - acc: 0.4906 - val_loss: 2.2313 - val_acc: 0.1956\n",
      "Epoch 9/30\n",
      "1800/1800 [==============================] - 79s 44ms/sample - loss: 1.4365 - acc: 0.5128 - val_loss: 2.1993 - val_acc: 0.2222\n",
      "Epoch 10/30\n",
      "1800/1800 [==============================] - 74s 41ms/sample - loss: 1.3714 - acc: 0.5478 - val_loss: 2.1520 - val_acc: 0.2267\n",
      "Epoch 11/30\n",
      "1800/1800 [==============================] - 73s 41ms/sample - loss: 1.2852 - acc: 0.5683 - val_loss: 2.1371 - val_acc: 0.2489\n",
      "Epoch 12/30\n",
      "1800/1800 [==============================] - 73s 41ms/sample - loss: 1.2044 - acc: 0.6067 - val_loss: 2.1222 - val_acc: 0.2289\n",
      "Epoch 13/30\n",
      "1800/1800 [==============================] - 73s 41ms/sample - loss: 1.1457 - acc: 0.6289 - val_loss: 2.1462 - val_acc: 0.2578\n",
      "Epoch 14/30\n",
      "1800/1800 [==============================] - 75s 42ms/sample - loss: 1.0764 - acc: 0.6500 - val_loss: 2.2130 - val_acc: 0.2444\n",
      "Epoch 15/30\n",
      "1800/1800 [==============================] - 92s 51ms/sample - loss: 1.0309 - acc: 0.6672 - val_loss: 2.2579 - val_acc: 0.2556\n",
      "Epoch 16/30\n",
      "1800/1800 [==============================] - 87s 48ms/sample - loss: 0.9749 - acc: 0.6983 - val_loss: 2.6232 - val_acc: 0.1844\n",
      "Epoch 17/30\n",
      "1800/1800 [==============================] - 81s 45ms/sample - loss: 0.9254 - acc: 0.7139 - val_loss: 2.3068 - val_acc: 0.2667\n",
      "Epoch 18/30\n",
      "1800/1800 [==============================] - 81s 45ms/sample - loss: 0.8614 - acc: 0.7400 - val_loss: 2.4163 - val_acc: 0.2467\n",
      "Epoch 19/30\n",
      "1800/1800 [==============================] - 84s 46ms/sample - loss: 0.8305 - acc: 0.7583 - val_loss: 2.4871 - val_acc: 0.2644\n",
      "Epoch 20/30\n",
      "1800/1800 [==============================] - 82s 45ms/sample - loss: 0.7661 - acc: 0.7794 - val_loss: 2.3322 - val_acc: 0.2800\n",
      "Epoch 21/30\n",
      "1800/1800 [==============================] - 79s 44ms/sample - loss: 0.7315 - acc: 0.7894 - val_loss: 2.4468 - val_acc: 0.2622\n",
      "Epoch 22/30\n",
      "1800/1800 [==============================] - 79s 44ms/sample - loss: 0.6788 - acc: 0.8106 - val_loss: 2.3648 - val_acc: 0.2800\n",
      "Epoch 23/30\n",
      "1800/1800 [==============================] - 78s 44ms/sample - loss: 0.6506 - acc: 0.8233 - val_loss: 2.3792 - val_acc: 0.2822\n",
      "Epoch 24/30\n",
      "1800/1800 [==============================] - 77s 43ms/sample - loss: 0.6123 - acc: 0.8450 - val_loss: 2.7438 - val_acc: 0.2400\n",
      "Epoch 25/30\n",
      "1800/1800 [==============================] - 76s 42ms/sample - loss: 0.5918 - acc: 0.8389 - val_loss: 2.5505 - val_acc: 0.2422\n",
      "Epoch 26/30\n",
      "1800/1800 [==============================] - 76s 42ms/sample - loss: 0.5400 - acc: 0.8639 - val_loss: 2.4891 - val_acc: 0.2622\n",
      "Epoch 27/30\n",
      "1800/1800 [==============================] - 76s 42ms/sample - loss: 0.5185 - acc: 0.8700 - val_loss: 2.3925 - val_acc: 0.2911\n",
      "Epoch 28/30\n",
      "1800/1800 [==============================] - 77s 43ms/sample - loss: 0.4721 - acc: 0.8883 - val_loss: 2.4656 - val_acc: 0.2911\n",
      "Epoch 29/30\n",
      "1800/1800 [==============================] - 77s 43ms/sample - loss: 0.4605 - acc: 0.8822 - val_loss: 2.6171 - val_acc: 0.2578\n",
      "Epoch 30/30\n",
      "1800/1800 [==============================] - 77s 43ms/sample - loss: 0.4276 - acc: 0.9039 - val_loss: 2.4806 - val_acc: 0.2756\n"
     ]
    }
   ],
   "source": [
    "#train the CNN\n",
    "history_spec=model.fit(X_train,y_train,validation_data=(X_validation,y_validation),batch_size=32,epochs=30)"
   ]
  },
  {
   "cell_type": "code",
   "execution_count": 20,
   "metadata": {},
   "outputs": [],
   "source": [
    "model.save(\"CNN-digit-mel\")"
   ]
  },
  {
   "cell_type": "code",
   "execution_count": 21,
   "metadata": {},
   "outputs": [
    {
     "name": "stdout",
     "output_type": "stream",
     "text": [
      "750/750 [==============================] - 5s 6ms/sample - loss: 2.5192 - acc: 0.2800\n",
      "Accuracy on test set is: 0.2800000011920929\n"
     ]
    }
   ],
   "source": [
    "#Evaluate the CNN on the test set-mel specaugment and not mel test set only\n",
    "test_error,test_accuracy=model.evaluate(X_test,y_test,verbose=1)\n",
    "print(\"Accuracy on test set is: {}\".format(test_accuracy))"
   ]
  },
  {
   "cell_type": "code",
   "execution_count": 24,
   "metadata": {},
   "outputs": [],
   "source": [
    "model.save(\"CNN-digit-mfcc\")"
   ]
  },
  {
   "cell_type": "markdown",
   "metadata": {},
   "source": [
    "# Train with stft"
   ]
  },
  {
   "cell_type": "code",
   "execution_count": 40,
   "metadata": {},
   "outputs": [
    {
     "name": "stdout",
     "output_type": "stream",
     "text": [
      "Train on 1800 samples, validate on 450 samples\n",
      "Epoch 1/30\n",
      "1800/1800 [==============================] - 89s 49ms/sample - loss: 2.3413 - acc: 0.1533 - val_loss: 2.3035 - val_acc: 0.1022\n",
      "Epoch 2/30\n",
      "1800/1800 [==============================] - 95s 53ms/sample - loss: 2.1939 - acc: 0.1906 - val_loss: 2.2990 - val_acc: 0.1133\n",
      "Epoch 3/30\n",
      "1800/1800 [==============================] - 91s 51ms/sample - loss: 2.1440 - acc: 0.2211 - val_loss: 2.3199 - val_acc: 0.1156\n",
      "Epoch 4/30\n",
      "1800/1800 [==============================] - 87s 48ms/sample - loss: 2.0545 - acc: 0.2506 - val_loss: 2.3349 - val_acc: 0.1133\n",
      "Epoch 5/30\n",
      "1800/1800 [==============================] - 94s 52ms/sample - loss: 1.9124 - acc: 0.3089 - val_loss: 2.4185 - val_acc: 0.1133\n",
      "Epoch 6/30\n",
      "1800/1800 [==============================] - 98s 54ms/sample - loss: 1.7555 - acc: 0.3561 - val_loss: 2.5074 - val_acc: 0.1244\n",
      "Epoch 7/30\n",
      "1800/1800 [==============================] - 95s 53ms/sample - loss: 1.6225 - acc: 0.4228 - val_loss: 2.5929 - val_acc: 0.1333\n",
      "Epoch 8/30\n",
      "1800/1800 [==============================] - 96s 53ms/sample - loss: 1.4515 - acc: 0.4978 - val_loss: 2.5155 - val_acc: 0.1467\n",
      "Epoch 9/30\n",
      "1800/1800 [==============================] - 95s 53ms/sample - loss: 1.3211 - acc: 0.5539 - val_loss: 2.1648 - val_acc: 0.2222\n",
      "Epoch 10/30\n",
      "1800/1800 [==============================] - 92s 51ms/sample - loss: 1.1804 - acc: 0.6183 - val_loss: 1.7803 - val_acc: 0.3489\n",
      "Epoch 11/30\n",
      "1800/1800 [==============================] - 103s 57ms/sample - loss: 1.0491 - acc: 0.6517 - val_loss: 1.4813 - val_acc: 0.4756\n",
      "Epoch 12/30\n",
      "1800/1800 [==============================] - 84s 46ms/sample - loss: 0.9853 - acc: 0.6833 - val_loss: 1.1982 - val_acc: 0.6133\n",
      "Epoch 13/30\n",
      "1800/1800 [==============================] - 91s 51ms/sample - loss: 0.8148 - acc: 0.7417 - val_loss: 0.9134 - val_acc: 0.7489\n",
      "Epoch 14/30\n",
      "1800/1800 [==============================] - 90s 50ms/sample - loss: 0.7647 - acc: 0.7456 - val_loss: 0.9008 - val_acc: 0.7267\n",
      "Epoch 15/30\n",
      "1800/1800 [==============================] - 91s 51ms/sample - loss: 0.6447 - acc: 0.7939 - val_loss: 0.7401 - val_acc: 0.7733\n",
      "Epoch 16/30\n",
      "1800/1800 [==============================] - 87s 49ms/sample - loss: 0.5439 - acc: 0.8283 - val_loss: 0.6409 - val_acc: 0.8178\n",
      "Epoch 17/30\n",
      "1800/1800 [==============================] - 173s 96ms/sample - loss: 0.5066 - acc: 0.8400 - val_loss: 0.6483 - val_acc: 0.7978\n",
      "Epoch 18/30\n",
      "1800/1800 [==============================] - 87s 48ms/sample - loss: 0.4512 - acc: 0.8689 - val_loss: 0.5111 - val_acc: 0.8556\n",
      "Epoch 19/30\n",
      "1800/1800 [==============================] - 86s 48ms/sample - loss: 0.4072 - acc: 0.8778 - val_loss: 0.5105 - val_acc: 0.8489\n",
      "Epoch 20/30\n",
      "1800/1800 [==============================] - 92s 51ms/sample - loss: 0.3632 - acc: 0.8950 - val_loss: 0.7133 - val_acc: 0.7667\n",
      "Epoch 21/30\n",
      "1800/1800 [==============================] - 95s 53ms/sample - loss: 0.3356 - acc: 0.8956 - val_loss: 0.4299 - val_acc: 0.8711\n",
      "Epoch 22/30\n",
      "1800/1800 [==============================] - 86s 48ms/sample - loss: 0.2770 - acc: 0.9189 - val_loss: 0.4220 - val_acc: 0.8911\n",
      "Epoch 23/30\n",
      "1800/1800 [==============================] - 85s 47ms/sample - loss: 0.2535 - acc: 0.9267 - val_loss: 0.4159 - val_acc: 0.8889\n",
      "Epoch 24/30\n",
      "1800/1800 [==============================] - 94s 52ms/sample - loss: 0.2446 - acc: 0.9372 - val_loss: 0.3805 - val_acc: 0.8933\n",
      "Epoch 25/30\n",
      "1800/1800 [==============================] - 96s 53ms/sample - loss: 0.2303 - acc: 0.9411 - val_loss: 0.3706 - val_acc: 0.8800\n",
      "Epoch 26/30\n",
      "1800/1800 [==============================] - 83s 46ms/sample - loss: 0.1956 - acc: 0.9483 - val_loss: 0.3227 - val_acc: 0.9200\n",
      "Epoch 27/30\n",
      "1800/1800 [==============================] - 82s 45ms/sample - loss: 0.1663 - acc: 0.9594 - val_loss: 0.3001 - val_acc: 0.9156\n",
      "Epoch 28/30\n",
      "1800/1800 [==============================] - 83s 46ms/sample - loss: 0.1744 - acc: 0.9500 - val_loss: 0.3130 - val_acc: 0.9067\n",
      "Epoch 29/30\n",
      "1800/1800 [==============================] - 86s 48ms/sample - loss: 0.1583 - acc: 0.9633 - val_loss: 0.2814 - val_acc: 0.9333\n",
      "Epoch 30/30\n",
      "1800/1800 [==============================] - 95s 53ms/sample - loss: 0.1518 - acc: 0.9533 - val_loss: 0.2946 - val_acc: 0.9200\n"
     ]
    }
   ],
   "source": [
    "#train the CNN\n",
    "history2=model.fit(X_train,y_train,validation_data=(X_validation,y_validation),batch_size=32,epochs=30)"
   ]
  },
  {
   "cell_type": "code",
   "execution_count": 41,
   "metadata": {},
   "outputs": [],
   "source": [
    "model.save(\"CNN-digit-stft\")"
   ]
  },
  {
   "cell_type": "code",
   "execution_count": 42,
   "metadata": {},
   "outputs": [
    {
     "name": "stdout",
     "output_type": "stream",
     "text": [
      "750/750 [==============================] - 5s 7ms/sample - loss: 0.2878 - acc: 0.9120\n",
      "Accuracy on test set is: 0.9120000004768372\n"
     ]
    }
   ],
   "source": [
    "#Evaluate the CNN on the test set--stft\n",
    "test_error,test_accuracy=model.evaluate(X_test,y_test,verbose=1)\n",
    "print(\"Accuracy on test set is: {}\".format(test_accuracy))"
   ]
  },
  {
   "cell_type": "code",
   "execution_count": 49,
   "metadata": {},
   "outputs": [
    {
     "name": "stdout",
     "output_type": "stream",
     "text": [
      "750/750 [==============================] - 6s 8ms/sample - loss: 0.2053 - acc: 0.9347\n",
      "Accuracy on test set is: 0.9346666932106018\n"
     ]
    }
   ],
   "source": [
    "#Evaluate the CNN on the test set--stft\n",
    "test_error,test_accuracy=model.evaluate(X_test,y_test,verbose=1)\n",
    "print(\"Accuracy on test set is: {}\".format(test_accuracy))"
   ]
  },
  {
   "cell_type": "code",
   "execution_count": 21,
   "metadata": {},
   "outputs": [
    {
     "name": "stdout",
     "output_type": "stream",
     "text": [
      "Expected index: 7, Predicted index: [7]\n"
     ]
    }
   ],
   "source": [
    "#make prediction on the sample\n",
    "X=X_train[49]\n",
    "y=y_train[49]\n",
    "predict(model,X,y)"
   ]
  },
  {
   "cell_type": "code",
   "execution_count": 48,
   "metadata": {},
   "outputs": [
    {
     "data": {
      "text/plain": [
       "()"
      ]
     },
     "execution_count": 48,
     "metadata": {},
     "output_type": "execute_result"
    }
   ],
   "source": [
    "y_train[49].shape"
   ]
  },
  {
   "cell_type": "code",
   "execution_count": 43,
   "metadata": {
    "scrolled": true
   },
   "outputs": [
    {
     "name": "stdout",
     "output_type": "stream",
     "text": [
      "Expected index: 4, Predicted index: [4]\n"
     ]
    }
   ],
   "source": [
    "#make prediction on the sample\n",
    "X=X_train[49]\n",
    "y=y_train[49]\n",
    "predict(model,X,y)"
   ]
  },
  {
   "cell_type": "code",
   "execution_count": 120,
   "metadata": {},
   "outputs": [],
   "source": [
    "def plot_history(history):\n",
    "    fig,axs=plt.subplots(2)\n",
    "    \n",
    "    #create accuracy suplot\n",
    "    axs[0].plot(history.history[\"acc\"],label=\"train accuracy\")\n",
    "    axs[0].plot(history.history[\"val_acc\"],label=\"test accuracy\")\n",
    "    axs[0].set_ylabel(\"Accuracy\")\n",
    "    axs[0].legend(loc=\"lower right\")\n",
    "    axs[0].set_title(\"Accuracy eval\")\n",
    "    \n",
    "    #create accuracy suplot\n",
    "    axs[1].plot(history.history[\"loss\"],label=\"train error\")\n",
    "    axs[1].plot(history.history[\"val_loss\"],label=\"test error\")\n",
    "    axs[1].set_ylabel(\"Error\")\n",
    "    axs[1].set_xlabel(\"Epoch\")\n",
    "    axs[1].legend(loc=\"upper right\")\n",
    "    axs[1].set_title(\"Error eval\")\n",
    "    \n",
    "    plt.show()"
   ]
  },
  {
   "cell_type": "code",
   "execution_count": 23,
   "metadata": {},
   "outputs": [
    {
     "data": {
      "image/png": "[encoded data removed]",
      "text/plain": [
       "<Figure size 432x288 with 2 Axes>"
      ]
     },
     "metadata": {
      "needs_background": "light"
     },
     "output_type": "display_data"
    }
   ],
   "source": [
    "#mfcc\n",
    "plot_history(history)"
   ]
  },
  {
   "cell_type": "code",
   "execution_count": 44,
   "metadata": {
    "scrolled": true
   },
   "outputs": [
    {
     "data": {
      "image/png": "[encoded data removed]",
      "text/plain": [
       "<Figure size 432x288 with 2 Axes>"
      ]
     },
     "metadata": {
      "needs_background": "light"
     },
     "output_type": "display_data"
    }
   ],
   "source": [
    "#stft\n",
    "plot_history(history2)"
   ]
  },
  {
   "cell_type": "code",
   "execution_count": 46,
   "metadata": {},
   "outputs": [
    {
     "name": "stdout",
     "output_type": "stream",
     "text": [
      "Train on 1800 samples, validate on 450 samples\n",
      "Epoch 1/15\n",
      "1800/1800 [==============================] - 88s 49ms/sample - loss: 0.1309 - acc: 0.9611 - val_loss: 0.2496 - val_acc: 0.9467\n",
      "Epoch 2/15\n",
      "1800/1800 [==============================] - 81s 45ms/sample - loss: 0.1171 - acc: 0.9722 - val_loss: 0.2374 - val_acc: 0.9511\n",
      "Epoch 3/15\n",
      "1800/1800 [==============================] - 83s 46ms/sample - loss: 0.1066 - acc: 0.9783 - val_loss: 0.3138 - val_acc: 0.9044\n",
      "Epoch 4/15\n",
      "1800/1800 [==============================] - 88s 49ms/sample - loss: 0.1036 - acc: 0.9739 - val_loss: 0.2523 - val_acc: 0.9200\n",
      "Epoch 5/15\n",
      "1800/1800 [==============================] - 95s 53ms/sample - loss: 0.0833 - acc: 0.9806 - val_loss: 0.2534 - val_acc: 0.9289\n",
      "Epoch 6/15\n",
      "1800/1800 [==============================] - 96s 53ms/sample - loss: 0.0849 - acc: 0.9772 - val_loss: 0.2498 - val_acc: 0.9356\n",
      "Epoch 7/15\n",
      "1800/1800 [==============================] - 97s 54ms/sample - loss: 0.0853 - acc: 0.9822 - val_loss: 0.2209 - val_acc: 0.9400\n",
      "Epoch 8/15\n",
      "1800/1800 [==============================] - 94s 52ms/sample - loss: 0.0743 - acc: 0.9844 - val_loss: 0.2181 - val_acc: 0.9422\n",
      "Epoch 9/15\n",
      "1800/1800 [==============================] - 106s 59ms/sample - loss: 0.0680 - acc: 0.9861 - val_loss: 0.2363 - val_acc: 0.9356\n",
      "Epoch 10/15\n",
      "1800/1800 [==============================] - 102s 57ms/sample - loss: 0.0609 - acc: 0.9850 - val_loss: 0.2336 - val_acc: 0.9356\n",
      "Epoch 11/15\n",
      "1800/1800 [==============================] - 91s 51ms/sample - loss: 0.0655 - acc: 0.9861 - val_loss: 0.1985 - val_acc: 0.9467\n",
      "Epoch 12/15\n",
      "1800/1800 [==============================] - 91s 51ms/sample - loss: 0.0535 - acc: 0.9894 - val_loss: 0.2156 - val_acc: 0.9400\n",
      "Epoch 13/15\n",
      "1800/1800 [==============================] - 90s 50ms/sample - loss: 0.0568 - acc: 0.9861 - val_loss: 0.3222 - val_acc: 0.9022\n",
      "Epoch 14/15\n",
      "1800/1800 [==============================] - 94s 52ms/sample - loss: 0.0649 - acc: 0.9856 - val_loss: 0.2558 - val_acc: 0.9222\n",
      "Epoch 15/15\n",
      "1800/1800 [==============================] - 90s 50ms/sample - loss: 0.0507 - acc: 0.9922 - val_loss: 0.2034 - val_acc: 0.9467\n"
     ]
    }
   ],
   "source": [
    "#train the CNN\n",
    "history3=model.fit(X_train,y_train,validation_data=(X_validation,y_validation),batch_size=32,epochs=15)"
   ]
  },
  {
   "cell_type": "code",
   "execution_count": 47,
   "metadata": {},
   "outputs": [
    {
     "data": {
      "image/png": "[encoded data removed]",
      "text/plain": [
       "<Figure size 432x288 with 2 Axes>"
      ]
     },
     "metadata": {
      "needs_background": "light"
     },
     "output_type": "display_data"
    }
   ],
   "source": [
    "plot_history(history3) #"
   ]
  },
  {
   "cell_type": "markdown",
   "metadata": {},
   "source": [
    "# Train with the generated data-stft"
   ]
  },
  {
   "cell_type": "code",
   "execution_count": 25,
   "metadata": {},
   "outputs": [
    {
     "name": "stderr",
     "output_type": "stream",
     "text": [
      "C:\\Users\\Alexander\\Anaconda3\\lib\\site-packages\\sklearn\\linear_model\\least_angle.py:35: DeprecationWarning: `np.float` is a deprecated alias for the builtin `float`. To silence this warning, use `float` by itself. Doing this will not modify any behavior and is safe. If you specifically wanted the numpy scalar type, use `np.float64` here.\n",
      "Deprecated in NumPy 1.20; for more details and guidance: https://numpy.org/devdocs/release/1.20.0-notes.html#deprecations\n",
      "  eps=np.finfo(np.float).eps,\n",
      "C:\\Users\\Alexander\\Anaconda3\\lib\\site-packages\\sklearn\\linear_model\\least_angle.py:597: DeprecationWarning: `np.float` is a deprecated alias for the builtin `float`. To silence this warning, use `float` by itself. Doing this will not modify any behavior and is safe. If you specifically wanted the numpy scalar type, use `np.float64` here.\n",
      "Deprecated in NumPy 1.20; for more details and guidance: https://numpy.org/devdocs/release/1.20.0-notes.html#deprecations\n",
      "  eps=np.finfo(np.float).eps, copy_X=True, fit_path=True,\n",
      "C:\\Users\\Alexander\\Anaconda3\\lib\\site-packages\\sklearn\\linear_model\\least_angle.py:836: DeprecationWarning: `np.float` is a deprecated alias for the builtin `float`. To silence this warning, use `float` by itself. Doing this will not modify any behavior and is safe. If you specifically wanted the numpy scalar type, use `np.float64` here.\n",
      "Deprecated in NumPy 1.20; for more details and guidance: https://numpy.org/devdocs/release/1.20.0-notes.html#deprecations\n",
      "  eps=np.finfo(np.float).eps, copy_X=True, fit_path=True,\n",
      "C:\\Users\\Alexander\\Anaconda3\\lib\\site-packages\\sklearn\\linear_model\\least_angle.py:862: DeprecationWarning: `np.float` is a deprecated alias for the builtin `float`. To silence this warning, use `float` by itself. Doing this will not modify any behavior and is safe. If you specifically wanted the numpy scalar type, use `np.float64` here.\n",
      "Deprecated in NumPy 1.20; for more details and guidance: https://numpy.org/devdocs/release/1.20.0-notes.html#deprecations\n",
      "  eps=np.finfo(np.float).eps, positive=False):\n",
      "C:\\Users\\Alexander\\Anaconda3\\lib\\site-packages\\sklearn\\linear_model\\least_angle.py:1097: DeprecationWarning: `np.float` is a deprecated alias for the builtin `float`. To silence this warning, use `float` by itself. Doing this will not modify any behavior and is safe. If you specifically wanted the numpy scalar type, use `np.float64` here.\n",
      "Deprecated in NumPy 1.20; for more details and guidance: https://numpy.org/devdocs/release/1.20.0-notes.html#deprecations\n",
      "  max_n_alphas=1000, n_jobs=None, eps=np.finfo(np.float).eps,\n",
      "C:\\Users\\Alexander\\Anaconda3\\lib\\site-packages\\sklearn\\linear_model\\least_angle.py:1344: DeprecationWarning: `np.float` is a deprecated alias for the builtin `float`. To silence this warning, use `float` by itself. Doing this will not modify any behavior and is safe. If you specifically wanted the numpy scalar type, use `np.float64` here.\n",
      "Deprecated in NumPy 1.20; for more details and guidance: https://numpy.org/devdocs/release/1.20.0-notes.html#deprecations\n",
      "  max_n_alphas=1000, n_jobs=None, eps=np.finfo(np.float).eps,\n",
      "C:\\Users\\Alexander\\Anaconda3\\lib\\site-packages\\sklearn\\linear_model\\least_angle.py:1480: DeprecationWarning: `np.float` is a deprecated alias for the builtin `float`. To silence this warning, use `float` by itself. Doing this will not modify any behavior and is safe. If you specifically wanted the numpy scalar type, use `np.float64` here.\n",
      "Deprecated in NumPy 1.20; for more details and guidance: https://numpy.org/devdocs/release/1.20.0-notes.html#deprecations\n",
      "  eps=np.finfo(np.float).eps, copy_X=True, positive=False):\n",
      "C:\\Users\\Alexander\\Anaconda3\\lib\\site-packages\\sklearn\\linear_model\\randomized_l1.py:152: DeprecationWarning: `np.float` is a deprecated alias for the builtin `float`. To silence this warning, use `float` by itself. Doing this will not modify any behavior and is safe. If you specifically wanted the numpy scalar type, use `np.float64` here.\n",
      "Deprecated in NumPy 1.20; for more details and guidance: https://numpy.org/devdocs/release/1.20.0-notes.html#deprecations\n",
      "  precompute=False, eps=np.finfo(np.float).eps,\n",
      "C:\\Users\\Alexander\\Anaconda3\\lib\\site-packages\\sklearn\\linear_model\\randomized_l1.py:320: DeprecationWarning: `np.float` is a deprecated alias for the builtin `float`. To silence this warning, use `float` by itself. Doing this will not modify any behavior and is safe. If you specifically wanted the numpy scalar type, use `np.float64` here.\n",
      "Deprecated in NumPy 1.20; for more details and guidance: https://numpy.org/devdocs/release/1.20.0-notes.html#deprecations\n",
      "  eps=np.finfo(np.float).eps, random_state=None,\n",
      "C:\\Users\\Alexander\\Anaconda3\\lib\\site-packages\\sklearn\\linear_model\\randomized_l1.py:580: DeprecationWarning: `np.float` is a deprecated alias for the builtin `float`. To silence this warning, use `float` by itself. Doing this will not modify any behavior and is safe. If you specifically wanted the numpy scalar type, use `np.float64` here.\n",
      "Deprecated in NumPy 1.20; for more details and guidance: https://numpy.org/devdocs/release/1.20.0-notes.html#deprecations\n",
      "  eps=4 * np.finfo(np.float).eps, n_jobs=None,\n",
      "C:\\Users\\Alexander\\Anaconda3\\lib\\site-packages\\sklearn\\decomposition\\online_lda.py:31: DeprecationWarning: `np.float` is a deprecated alias for the builtin `float`. To silence this warning, use `float` by itself. Doing this will not modify any behavior and is safe. If you specifically wanted the numpy scalar type, use `np.float64` here.\n",
      "Deprecated in NumPy 1.20; for more details and guidance: https://numpy.org/devdocs/release/1.20.0-notes.html#deprecations\n",
      "  EPS = np.finfo(np.float).eps\n",
      "C:\\Users\\Alexander\\Anaconda3\\lib\\site-packages\\sklearn\\feature_extraction\\image.py:167: DeprecationWarning: `np.int` is a deprecated alias for the builtin `int`. To silence this warning, use `int` by itself. Doing this will not modify any behavior and is safe. When replacing `np.int`, you may wish to use e.g. `np.int64` or `np.int32` to specify the precision. If you wish to review your current use, check the release note link for additional information.\n",
      "Deprecated in NumPy 1.20; for more details and guidance: https://numpy.org/devdocs/release/1.20.0-notes.html#deprecations\n",
      "  dtype=np.int):\n"
     ]
    }
   ],
   "source": [
    "from tensorflow.keras.layers import Input,Conv2D,ReLU,BatchNormalization,Flatten,Dense,Reshape,Conv2DTranspose,Activation,Lambda\n",
    "import os \n",
    "import pickle\n",
    "from tensorflow.keras import backend as K\n",
    "from tensorflow.keras.optimizers import Adam\n",
    "from tensorflow.keras.losses import MeanSquaredError\n",
    "from tensorflow.keras import Model\n",
    "import librosa\n",
    "import librosa.display"
   ]
  },
  {
   "cell_type": "code",
   "execution_count": 8,
   "metadata": {},
   "outputs": [],
   "source": [
    "#Define the autoencoder\n",
    "class Autoencoder:\n",
    "    \n",
    "    def __init__(self,input_shape,\n",
    "                conv_filters,\n",
    "                conv_kernels,\n",
    "                conv_strides,\n",
    "                latent_space_dim):\n",
    "        \n",
    "        self.input_shape=input_shape  # [28 , 28 , 1]\n",
    "        self.conv_filters=conv_filters #[2 , 4 , 8]\n",
    "        self.conv_kernels=conv_kernels #[3 , 5 , 3]\n",
    "        self.conv_strides=conv_strides #[1 , 2 , 2]\n",
    "        self.latent_space_dim=latent_space_dim # 2\n",
    "        \n",
    "        self.encoder=None\n",
    "        self.decoder=None\n",
    "        self.model=None\n",
    "        self._model_input=None\n",
    "        \n",
    "        self._num_conv_layers=len(conv_filters)\n",
    "        self._shape_before_bottleneck=None\n",
    "        \n",
    "        self._build()\n",
    "        \n",
    "    def summary(self):\n",
    "        self.encoder.summary()\n",
    "        self.decoder.summary()\n",
    "        self.model.summary()\n",
    "        \n",
    "    def compile(self,learning_rate=0.0001):\n",
    "        optimizer=Adam(lr=learning_rate)\n",
    "        mse_loss=MeanSquaredError()\n",
    "        self.model.compile(optimizer,loss=mse_loss)\n",
    "        \n",
    "    def train(self, x_train,x_val,batch_size,num_epochs):\n",
    "        history=self.model.fit(x_train,\n",
    "                       x_train,validation_data=(x_val,x_val),\n",
    "                       batch_size=batch_size,\n",
    "                      epochs=num_epochs,\n",
    "                      shuffle=False)\n",
    "        return history\n",
    "        \n",
    "    def save(self,save_folder=\".\"):\n",
    "        self._create_folder_if_doesnt_exist(save_folder)\n",
    "        self._save_parameters(save_folder)\n",
    "        self._save_weights(save_folder)\n",
    "    \n",
    "    def load_weights(self,weights_path):\n",
    "        self.model.load_weights(weights_path)\n",
    "        \n",
    "    def reconstruct(self,images):\n",
    "        latent_representations=self.encoder.predict(images)\n",
    "        reconstructed_images=self.decoder.predict(latent_representations)\n",
    "        return reconstructed_images,latent_representations\n",
    "    \n",
    "    @classmethod\n",
    "    def load(cls,save_folder=\".\"):\n",
    "        parameters_path=os.path.join(save_folder,\"parameters.pkl\")\n",
    "        with open(parameters_path,\"rb\") as f:\n",
    "            parameters=pickle.load(f)\n",
    "        autoencoder=Autoencoder(*parameters)\n",
    "        weights_path=os.path.join(save_folder,\"weights.h5\")\n",
    "        autoencoder.load_weights(weights_path)\n",
    "        \n",
    "        return autoencoder\n",
    "    \n",
    "    def _create_folder_if_doesnt_exist(self,folder):\n",
    "        if not os.path.exists(folder):\n",
    "            os.makedirs(folder)\n",
    "    \n",
    "    def _save_parameters(self,save_folder):\n",
    "        parameters =[\n",
    "            self.input_shape,\n",
    "            self.conv_filters,\n",
    "            self.conv_kernels,\n",
    "            self.conv_strides,\n",
    "            self.latent_space_dim\n",
    "        ]\n",
    "        save_path=os.path.join(save_folder,\"parameters.pkl\")\n",
    "        with open(save_path,\"wb\") as f:\n",
    "            pickle.dump(parameters,f)\n",
    "        \n",
    "    def _save_weights(self,save_folder):\n",
    "        save_path=os.path.join(save_folder,\"weights.h5\")\n",
    "        self.model.save_weights(save_path)\n",
    "        \n",
    "    def _build(self):\n",
    "        self._build_encoder()\n",
    "        self._build_decoder()\n",
    "        self._build_autoencoder()\n",
    "        \n",
    "    def _build_autoencoder(self):\n",
    "        model_input=self._model_input\n",
    "        model_output=self.decoder(self.encoder(model_input))\n",
    "        self.model=Model(model_input,model_output,name=\"autoencoder\")\n",
    "        \n",
    "    def _build_decoder(self):\n",
    "        decoder_input=self._add_decoder_input()\n",
    "        dense_layer=self._add_dense_layer(decoder_input)\n",
    "        reshape_layer=self._add_reshape_layer(dense_layer)\n",
    "        conv_transpose_layers=self._add_conv_transpose_layers(reshape_layer)\n",
    "        decoder_output=self._add_decoder_output(conv_transpose_layers)\n",
    "        self.decoder=Model(decoder_input,decoder_output,name=\"decoder\")\n",
    "        \n",
    "    def _add_decoder_input(self):\n",
    "        return Input(shape=(self.latent_space_dim,),name=\"decoder_input\")\n",
    "    \n",
    "    def _add_dense_layer(self,decoder_input):\n",
    "        num_neurons=np.prod(self._shape_before_bottleneck) #[1,2,4] => 8\n",
    "        dense_layer=Dense(num_neurons,name=\"decoder_dense\")(decoder_input)\n",
    "        return dense_layer\n",
    "    \n",
    "    def _add_reshape_layer(self,dense_layer):\n",
    "        return Reshape(self._shape_before_bottleneck)(dense_layer)\n",
    "    \n",
    "    def _add_conv_transpose_layers(self,x):\n",
    "        \"\"\"Add con transpose blocks.\"\"\"\n",
    "        #loop through all the conv layers in reverse order and stop at first\n",
    "        # layer\n",
    "        for layer_index in reversed(range(1,self._num_conv_layers)):\n",
    "            # [1, 2] -> [2,1]\n",
    "            x=self._add_conv_transpose_layer(layer_index,x)\n",
    "        return x\n",
    "    \n",
    "    def _add_conv_transpose_layer(self,layer_index,x):\n",
    "        layer_num=self._num_conv_layers-layer_index\n",
    "        conv_transpose_layer=Conv2DTranspose(\n",
    "            filters=self.conv_filters[layer_index],\n",
    "            kernel_size=self.conv_kernels[layer_index],\n",
    "            strides=self.conv_strides[layer_index],\n",
    "            padding=\"same\",\n",
    "            name=f\"decoder_conv_transpose_layer_{layer_num}\"\n",
    "        )\n",
    "        x=conv_transpose_layer(x)\n",
    "        x=ReLU(name=f\"decoder_relu_{layer_num}\")(x)\n",
    "        x=BatchNormalization(name=f\"decoder_bn_{layer_num}\")(x)\n",
    "        \n",
    "        return x\n",
    "    \n",
    "    def _add_decoder_output(self,x):\n",
    "        conv_transpose_layer=Conv2DTranspose(\n",
    "            filters=1, #[24,24,1]\n",
    "            kernel_size=self.conv_kernels[0],\n",
    "            strides=self.conv_strides[0],\n",
    "            padding=\"same\",\n",
    "            name=f\"decoder_conv_transpose_layer_{self._num_conv_layers}\"\n",
    "        )\n",
    "        x=conv_transpose_layer(x)\n",
    "        output_layer=Activation(\"sigmoid\",name=\"sigmoid_layer\")(x)\n",
    "        \n",
    "        return output_layer\n",
    "    \n",
    "    def _build_encoder(self):\n",
    "        encoder_input=self._add_encoder_input()\n",
    "        conv_layers=self._add_conv_layers(encoder_input)\n",
    "        bottleneck=self._add_bottleneck(conv_layers)\n",
    "        self._model_input=encoder_input\n",
    "        self.encoder=Model(encoder_input,bottleneck, name=\"encoder\")\n",
    "        \n",
    "    def _add_encoder_input(self):\n",
    "        return Input(shape=self.input_shape,name=\"encoder_input\")\n",
    "    \n",
    "    def _add_conv_layers(self,encoder_input):\n",
    "        \n",
    "        x=encoder_input\n",
    "        \n",
    "        for layer_index in range(self._num_conv_layers):\n",
    "            x=self._add_conv_layer(layer_index,x)\n",
    "        return x\n",
    "    \n",
    "    def _add_conv_layer(self,layer_index,x):\n",
    "        layer_number=layer_index+1\n",
    "        conv_layer =Conv2D(\n",
    "            filters=self.conv_filters[layer_index],\n",
    "            kernel_size=self.conv_kernels[layer_index],\n",
    "            strides=self.conv_strides[layer_index],\n",
    "            padding=\"same\",\n",
    "            name=f\"encoder_conv_layer_{layer_index+1}\")\n",
    "        \n",
    "        x=conv_layer(x)\n",
    "        x=ReLU(name=f\"encoder_relu_{layer_index+1}\")(x)\n",
    "        x=BatchNormalization(name=f\"encoder_bn_{layer_number}\")(x)\n",
    "        \n",
    "        return x\n",
    "    \n",
    "    def _add_bottleneck(self,x):\n",
    "        \"\"\"Flatten data and add bottleneck (Dense layer)\"\"\"\n",
    "        self._shape_before_bottleneck=K.int_shape(x)[1:] # [2,7,7,32]\n",
    "        \n",
    "        x=Flatten()(x)\n",
    "        x=Dense(self.latent_space_dim,name=\"encoder_output\")(x)\n",
    "        \n",
    "        return x"
   ]
  },
  {
   "cell_type": "code",
   "execution_count": 9,
   "metadata": {},
   "outputs": [
    {
     "name": "stdout",
     "output_type": "stream",
     "text": [
      "(3000, 64, 256)\n"
     ]
    }
   ],
   "source": [
    "#Load the original data\n",
    "#load data\n",
    "def load_data(dataset_path):\n",
    "    with open(dataset_path,\"r\") as fp:\n",
    "        data=json.load(fp)  #load the dictionary from the file\n",
    "        \n",
    "    # convert list into numpy array\n",
    "    inputs=np.array(data[\"stft\"])\n",
    "    targets=np.array(data[\"labels\"])\n",
    "    \n",
    "    return inputs,targets\n",
    "\n",
    "def prepare_datasets(test_size,validation_size):\n",
    "    #load data\n",
    "    X,y=load_data(DATASET_PATH)\n",
    "    print(X.shape)\n",
    "    #create train/test split\n",
    "    #split the data into train and test set\n",
    "    X_train,X_test,y_train,y_test=train_test_split(X,y,test_size=test_size)\n",
    "    #create train/validation split\n",
    "    X_train,X_validation,y_train,y_validation=train_test_split(X_train,y_train,test_size=validation_size)\n",
    "    #3d array -> (130,13,1)\n",
    "    X_train=X_train[...,np.newaxis] #4d array-> (num_samples,130,13,1)\n",
    "    X_validation=X_validation[...,np.newaxis]\n",
    "    X_test=X_test[...,np.newaxis]\n",
    "    \n",
    "    \n",
    "    return X_train,X_validation,X_test,y_train,y_validation,y_test\n",
    "\n",
    "if __name__==\"__main__\":\n",
    "    #inputs,targets=load_data(DATASET_PATH)\n",
    "    X_train,X_validation,X_test,y_train,y_validation,y_test=prepare_datasets(0.25,0.2)"
   ]
  },
  {
   "cell_type": "code",
   "execution_count": 11,
   "metadata": {},
   "outputs": [
    {
     "data": {
      "text/plain": [
       "(1800, 64, 256, 1)"
      ]
     },
     "execution_count": 11,
     "metadata": {},
     "output_type": "execute_result"
    }
   ],
   "source": [
    "X_train.shape"
   ]
  },
  {
   "cell_type": "code",
   "execution_count": 32,
   "metadata": {},
   "outputs": [],
   "source": [
    "#Load the autoencoder model\n",
    "autoencoder=Autoencoder.load(\"autoencoder_50\")\n",
    "\n",
    "#Generate new data from X_train, X_validation\n",
    "reconstructed_images_train, _ = autoencoder.reconstruct(X_train)\n",
    "reconstructed_images_validation, _ = autoencoder.reconstruct(X_validation)\n",
    "\n"
   ]
  },
  {
   "cell_type": "code",
   "execution_count": 45,
   "metadata": {},
   "outputs": [
    {
     "name": "stdout",
     "output_type": "stream",
     "text": [
      "_________________________________________________________________\n",
      "Layer (type)                 Output Shape              Param #   \n",
      "=================================================================\n",
      "conv2d_18 (Conv2D)           (None, 62, 254, 32)       320       \n",
      "_________________________________________________________________\n",
      "max_pooling2d_18 (MaxPooling (None, 31, 127, 32)       0         \n",
      "_________________________________________________________________\n",
      "batch_normalization_v1_18 (B (None, 31, 127, 32)       128       \n",
      "_________________________________________________________________\n",
      "conv2d_19 (Conv2D)           (None, 29, 125, 32)       9248      \n",
      "_________________________________________________________________\n",
      "max_pooling2d_19 (MaxPooling (None, 15, 63, 32)        0         \n",
      "_________________________________________________________________\n",
      "batch_normalization_v1_19 (B (None, 15, 63, 32)        128       \n",
      "_________________________________________________________________\n",
      "conv2d_20 (Conv2D)           (None, 14, 62, 32)        4128      \n",
      "_________________________________________________________________\n",
      "max_pooling2d_20 (MaxPooling (None, 7, 31, 32)         0         \n",
      "_________________________________________________________________\n",
      "batch_normalization_v1_20 (B (None, 7, 31, 32)         128       \n",
      "_________________________________________________________________\n",
      "flatten_9 (Flatten)          (None, 6944)              0         \n",
      "_________________________________________________________________\n",
      "dense_12 (Dense)             (None, 64)                444480    \n",
      "_________________________________________________________________\n",
      "dropout_6 (Dropout)          (None, 64)                0         \n",
      "_________________________________________________________________\n",
      "dense_13 (Dense)             (None, 10)                650       \n",
      "=================================================================\n",
      "Total params: 459,210\n",
      "Trainable params: 459,018\n",
      "Non-trainable params: 192\n",
      "_________________________________________________________________\n"
     ]
    }
   ],
   "source": [
    "#build the CNN net\n",
    "input_shape=(reconstructed_images_train.shape[1],reconstructed_images_train.shape[2],reconstructed_images_train.shape[3])\n",
    "model=build_model(input_shape)\n",
    "\n",
    "#compile the network\n",
    "optimizer=keras.optimizers.Adam(lr=0.00001)  #0.0001\n",
    "model.compile(optimizer=optimizer,\n",
    "             loss=\"sparse_categorical_crossentropy\",\n",
    "             metrics=['acc'])\n",
    "model.summary()"
   ]
  },
  {
   "cell_type": "code",
   "execution_count": 41,
   "metadata": {},
   "outputs": [
    {
     "name": "stdout",
     "output_type": "stream",
     "text": [
      "Train on 1800 samples, validate on 450 samples\n",
      "Epoch 1/30\n",
      "1800/1800 [==============================] - 82s 46ms/sample - loss: 2.3796 - acc: 0.1250 - val_loss: 2.3141 - val_acc: 0.1222\n",
      "Epoch 2/30\n",
      "1800/1800 [==============================] - 82s 45ms/sample - loss: 2.2143 - acc: 0.1783 - val_loss: 2.4086 - val_acc: 0.1111\n",
      "Epoch 3/30\n",
      "1800/1800 [==============================] - 82s 45ms/sample - loss: 2.1835 - acc: 0.1822 - val_loss: 2.5268 - val_acc: 0.0911\n",
      "Epoch 4/30\n",
      "1800/1800 [==============================] - 83s 46ms/sample - loss: 2.1117 - acc: 0.2283 - val_loss: 2.6499 - val_acc: 0.0911\n",
      "Epoch 5/30\n",
      "1800/1800 [==============================] - 81s 45ms/sample - loss: 1.9882 - acc: 0.2789 - val_loss: 3.1325 - val_acc: 0.0911\n",
      "Epoch 6/30\n",
      "1800/1800 [==============================] - 81s 45ms/sample - loss: 1.8882 - acc: 0.3222 - val_loss: 3.4899 - val_acc: 0.0911\n",
      "Epoch 7/30\n",
      "1800/1800 [==============================] - 81s 45ms/sample - loss: 1.8141 - acc: 0.3550 - val_loss: 3.6356 - val_acc: 0.0933\n",
      "Epoch 8/30\n",
      "1800/1800 [==============================] - 80s 45ms/sample - loss: 1.6740 - acc: 0.3989 - val_loss: 3.5915 - val_acc: 0.0933\n",
      "Epoch 9/30\n",
      "1800/1800 [==============================] - 80s 44ms/sample - loss: 1.5973 - acc: 0.4294 - val_loss: 3.2279 - val_acc: 0.1333\n",
      "Epoch 10/30\n",
      "1800/1800 [==============================] - 80s 44ms/sample - loss: 1.4874 - acc: 0.4661 - val_loss: 2.5446 - val_acc: 0.1756\n",
      "Epoch 11/30\n",
      "1800/1800 [==============================] - 80s 44ms/sample - loss: 1.4257 - acc: 0.4811 - val_loss: 3.0335 - val_acc: 0.1378\n",
      "Epoch 12/30\n",
      "1800/1800 [==============================] - 80s 44ms/sample - loss: 1.3513 - acc: 0.5267 - val_loss: 2.1951 - val_acc: 0.2467\n",
      "Epoch 13/30\n",
      "1800/1800 [==============================] - 80s 44ms/sample - loss: 1.2631 - acc: 0.5450 - val_loss: 1.6575 - val_acc: 0.4111\n",
      "Epoch 14/30\n",
      "1800/1800 [==============================] - 83s 46ms/sample - loss: 1.2218 - acc: 0.5778 - val_loss: 1.8936 - val_acc: 0.3200\n",
      "Epoch 15/30\n",
      "1800/1800 [==============================] - 86s 48ms/sample - loss: 1.1854 - acc: 0.5850 - val_loss: 2.0288 - val_acc: 0.3111\n",
      "Epoch 16/30\n",
      "1800/1800 [==============================] - 84s 47ms/sample - loss: 1.0711 - acc: 0.6289 - val_loss: 1.8804 - val_acc: 0.3756\n",
      "Epoch 17/30\n",
      "1800/1800 [==============================] - 89s 49ms/sample - loss: 1.0819 - acc: 0.6250 - val_loss: 1.7913 - val_acc: 0.3911\n",
      "Epoch 18/30\n",
      "1800/1800 [==============================] - 81s 45ms/sample - loss: 0.9952 - acc: 0.6561 - val_loss: 1.6120 - val_acc: 0.4467\n",
      "Epoch 19/30\n",
      "1800/1800 [==============================] - 87s 48ms/sample - loss: 0.9528 - acc: 0.6733 - val_loss: 1.6118 - val_acc: 0.4222\n",
      "Epoch 20/30\n",
      "1800/1800 [==============================] - 87s 48ms/sample - loss: 0.9331 - acc: 0.6789 - val_loss: 1.9702 - val_acc: 0.3622\n",
      "Epoch 21/30\n",
      "1800/1800 [==============================] - 82s 46ms/sample - loss: 0.8862 - acc: 0.6911 - val_loss: 2.0103 - val_acc: 0.3267\n",
      "Epoch 22/30\n",
      "1800/1800 [==============================] - 80s 45ms/sample - loss: 0.8539 - acc: 0.7139 - val_loss: 1.7532 - val_acc: 0.4333\n",
      "Epoch 23/30\n",
      "1800/1800 [==============================] - 82s 45ms/sample - loss: 0.8168 - acc: 0.7222 - val_loss: 1.7022 - val_acc: 0.4333\n",
      "Epoch 24/30\n",
      "1800/1800 [==============================] - 85s 47ms/sample - loss: 0.7754 - acc: 0.7394 - val_loss: 1.7325 - val_acc: 0.4356\n",
      "Epoch 25/30\n",
      "1800/1800 [==============================] - 81s 45ms/sample - loss: 0.7765 - acc: 0.7350 - val_loss: 1.6799 - val_acc: 0.4444\n",
      "Epoch 26/30\n",
      "1800/1800 [==============================] - 81s 45ms/sample - loss: 0.7688 - acc: 0.7356 - val_loss: 1.7859 - val_acc: 0.4044\n",
      "Epoch 27/30\n",
      "1800/1800 [==============================] - 81s 45ms/sample - loss: 0.7134 - acc: 0.7639 - val_loss: 1.7768 - val_acc: 0.4244\n",
      "Epoch 28/30\n",
      "1800/1800 [==============================] - 81s 45ms/sample - loss: 0.6825 - acc: 0.7783 - val_loss: 1.6539 - val_acc: 0.4556\n",
      "Epoch 29/30\n",
      "1800/1800 [==============================] - 81s 45ms/sample - loss: 0.6521 - acc: 0.7844 - val_loss: 1.8783 - val_acc: 0.4044\n",
      "Epoch 30/30\n",
      "1800/1800 [==============================] - 82s 45ms/sample - loss: 0.6369 - acc: 0.7789 - val_loss: 1.7196 - val_acc: 0.4422\n"
     ]
    }
   ],
   "source": [
    "#Train the model using only the generated data while using the original data for validation, and testing (Yenyewe)\n",
    "history_gen_1=model.fit(reconstructed_images_train,y_train,validation_data=(X_validation,y_validation),batch_size=32,epochs=30)"
   ]
  },
  {
   "cell_type": "code",
   "execution_count": 44,
   "metadata": {},
   "outputs": [
    {
     "data": {
      "image/png": "[encoded data removed]",
      "text/plain": [
       "<Figure size 432x288 with 2 Axes>"
      ]
     },
     "metadata": {
      "needs_background": "light"
     },
     "output_type": "display_data"
    }
   ],
   "source": [
    "plot_history(history_gen_1)"
   ]
  },
  {
   "cell_type": "code",
   "execution_count": 42,
   "metadata": {},
   "outputs": [
    {
     "name": "stdout",
     "output_type": "stream",
     "text": [
      "750/750 [==============================] - 5s 7ms/sample - loss: 1.6725 - acc: 0.4667\n",
      "Accuracy on test set is: 0.46666666865348816\n"
     ]
    }
   ],
   "source": [
    "#Evaluate the CNN on the test set--stft\n",
    "test_error,test_accuracy=model.evaluate(X_test,y_test,verbose=1)\n",
    "print(\"Accuracy on test set is: {}\".format(test_accuracy))"
   ]
  },
  {
   "cell_type": "code",
   "execution_count": 46,
   "metadata": {},
   "outputs": [
    {
     "name": "stdout",
     "output_type": "stream",
     "text": [
      "Train on 1800 samples, validate on 450 samples\n",
      "Epoch 1/30\n",
      "1800/1800 [==============================] - 81s 45ms/sample - loss: 2.7118 - acc: 0.1244 - val_loss: 2.3146 - val_acc: 0.0933\n",
      "Epoch 2/30\n",
      "1800/1800 [==============================] - 81s 45ms/sample - loss: 2.4077 - acc: 0.1461 - val_loss: 2.3584 - val_acc: 0.0911\n",
      "Epoch 3/30\n",
      "1800/1800 [==============================] - 81s 45ms/sample - loss: 2.2848 - acc: 0.1789 - val_loss: 2.4072 - val_acc: 0.0911\n",
      "Epoch 4/30\n",
      "1800/1800 [==============================] - 81s 45ms/sample - loss: 2.2442 - acc: 0.1789 - val_loss: 2.4454 - val_acc: 0.0911\n",
      "Epoch 5/30\n",
      "1800/1800 [==============================] - 81s 45ms/sample - loss: 2.1864 - acc: 0.2011 - val_loss: 2.4591 - val_acc: 0.0911\n",
      "Epoch 6/30\n",
      "1800/1800 [==============================] - 82s 45ms/sample - loss: 2.1570 - acc: 0.2172 - val_loss: 2.4456 - val_acc: 0.0911\n",
      "Epoch 7/30\n",
      "1800/1800 [==============================] - 80s 45ms/sample - loss: 2.1275 - acc: 0.2306 - val_loss: 2.4200 - val_acc: 0.0911\n",
      "Epoch 8/30\n",
      "1800/1800 [==============================] - 82s 46ms/sample - loss: 2.1128 - acc: 0.2322 - val_loss: 2.3703 - val_acc: 0.1111\n",
      "Epoch 9/30\n",
      "1800/1800 [==============================] - 81s 45ms/sample - loss: 2.0979 - acc: 0.2517 - val_loss: 2.3057 - val_acc: 0.1333\n",
      "Epoch 10/30\n",
      "1800/1800 [==============================] - 81s 45ms/sample - loss: 2.0728 - acc: 0.2550 - val_loss: 2.2607 - val_acc: 0.1489\n",
      "Epoch 11/30\n",
      "1800/1800 [==============================] - 81s 45ms/sample - loss: 2.0575 - acc: 0.2717 - val_loss: 2.2155 - val_acc: 0.1600\n",
      "Epoch 12/30\n",
      "1800/1800 [==============================] - 81s 45ms/sample - loss: 2.0243 - acc: 0.2744 - val_loss: 2.1799 - val_acc: 0.1711\n",
      "Epoch 13/30\n",
      "1800/1800 [==============================] - 82s 45ms/sample - loss: 2.0049 - acc: 0.2983 - val_loss: 2.1616 - val_acc: 0.2022\n",
      "Epoch 14/30\n",
      "1800/1800 [==============================] - 81s 45ms/sample - loss: 1.9912 - acc: 0.2939 - val_loss: 2.1526 - val_acc: 0.2156\n",
      "Epoch 15/30\n",
      "1800/1800 [==============================] - 81s 45ms/sample - loss: 1.9748 - acc: 0.3128 - val_loss: 2.1566 - val_acc: 0.2222\n",
      "Epoch 16/30\n",
      "1800/1800 [==============================] - 80s 44ms/sample - loss: 1.9530 - acc: 0.3156 - val_loss: 2.1618 - val_acc: 0.2067\n",
      "Epoch 17/30\n",
      "1800/1800 [==============================] - 79s 44ms/sample - loss: 1.9391 - acc: 0.3206 - val_loss: 2.1598 - val_acc: 0.1933\n",
      "Epoch 18/30\n",
      "1800/1800 [==============================] - 79s 44ms/sample - loss: 1.9193 - acc: 0.3350 - val_loss: 2.1640 - val_acc: 0.2000\n",
      "Epoch 19/30\n",
      "1800/1800 [==============================] - 79s 44ms/sample - loss: 1.9029 - acc: 0.3433 - val_loss: 2.1683 - val_acc: 0.2022\n",
      "Epoch 20/30\n",
      "1800/1800 [==============================] - 80s 44ms/sample - loss: 1.8867 - acc: 0.3406 - val_loss: 2.1853 - val_acc: 0.1933\n",
      "Epoch 21/30\n",
      "1800/1800 [==============================] - 80s 44ms/sample - loss: 1.8619 - acc: 0.3394 - val_loss: 2.1895 - val_acc: 0.1956\n",
      "Epoch 22/30\n",
      "1800/1800 [==============================] - 79s 44ms/sample - loss: 1.8445 - acc: 0.3539 - val_loss: 2.2149 - val_acc: 0.1956\n",
      "Epoch 23/30\n",
      "1800/1800 [==============================] - 79s 44ms/sample - loss: 1.8251 - acc: 0.3694 - val_loss: 2.2035 - val_acc: 0.1978\n",
      "Epoch 24/30\n",
      "1800/1800 [==============================] - 82s 46ms/sample - loss: 1.7891 - acc: 0.3811 - val_loss: 2.2173 - val_acc: 0.2111\n",
      "Epoch 25/30\n",
      "1800/1800 [==============================] - 82s 45ms/sample - loss: 1.8078 - acc: 0.3750 - val_loss: 2.2151 - val_acc: 0.2089\n",
      "Epoch 26/30\n",
      "1800/1800 [==============================] - 81s 45ms/sample - loss: 1.7579 - acc: 0.3983 - val_loss: 2.2310 - val_acc: 0.2000\n",
      "Epoch 27/30\n",
      "1800/1800 [==============================] - 81s 45ms/sample - loss: 1.7601 - acc: 0.3872 - val_loss: 2.2606 - val_acc: 0.1956\n",
      "Epoch 28/30\n",
      "1800/1800 [==============================] - 81s 45ms/sample - loss: 1.7227 - acc: 0.3994 - val_loss: 2.2637 - val_acc: 0.2000\n",
      "Epoch 29/30\n",
      "1800/1800 [==============================] - 81s 45ms/sample - loss: 1.7179 - acc: 0.4167 - val_loss: 2.2785 - val_acc: 0.1956\n",
      "Epoch 30/30\n",
      "1800/1800 [==============================] - 81s 45ms/sample - loss: 1.6902 - acc: 0.4178 - val_loss: 2.2662 - val_acc: 0.2111\n"
     ]
    }
   ],
   "source": [
    "#Train the model using only the generated data while using the original data for validation, and testing\n",
    "history_gen_2=model.fit(reconstructed_images_train,y_train,validation_data=(X_validation,y_validation),batch_size=32,epochs=30)"
   ]
  },
  {
   "cell_type": "code",
   "execution_count": 47,
   "metadata": {},
   "outputs": [
    {
     "name": "stdout",
     "output_type": "stream",
     "text": [
      "750/750 [==============================] - 5s 7ms/sample - loss: 2.2783 - acc: 0.1987\n",
      "Accuracy on test set is: 0.19866666197776794\n"
     ]
    }
   ],
   "source": [
    "#Evaluate the CNN on the test set--stft\n",
    "test_error,test_accuracy=model.evaluate(X_test,y_test,verbose=1)\n",
    "print(\"Accuracy on test set is: {}\".format(test_accuracy))"
   ]
  },
  {
   "cell_type": "code",
   "execution_count": 48,
   "metadata": {},
   "outputs": [
    {
     "data": {
      "image/png": "[encoded data removed]",
      "text/plain": [
       "<Figure size 432x288 with 2 Axes>"
      ]
     },
     "metadata": {
      "needs_background": "light"
     },
     "output_type": "display_data"
    }
   ],
   "source": [
    "plot_history(history_gen_2)"
   ]
  },
  {
   "cell_type": "code",
   "execution_count": null,
   "metadata": {},
   "outputs": [],
   "source": []
  }
 ],
 "metadata": {
  "kernelspec": {
   "display_name": "Python 3",
   "language": "python",
   "name": "python3"
  },
  "language_info": {
   "codemirror_mode": {
    "name": "ipython",
    "version": 3
   },
   "file_extension": ".py",
   "mimetype": "text/x-python",
   "name": "python",
   "nbconvert_exporter": "python",
   "pygments_lexer": "ipython3",
   "version": "3.7.1"
  }
 },
 "nbformat": 4,
 "nbformat_minor": 2
}
